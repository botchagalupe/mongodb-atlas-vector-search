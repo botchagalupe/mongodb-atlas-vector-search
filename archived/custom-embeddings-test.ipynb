{
 "cells": [
  {
   "cell_type": "markdown",
   "metadata": {},
   "source": [
    "# Custom Embeddings\n",
    "\n",
    "In previous lab, we queried `embedded_movies` collection that already had `plot_embedding` column.  This column was created using OpenAI embedding model.\n",
    "\n",
    "In this lab, we will setup a custom embedding column using a a local model (so no API calls to OpenAI).  We will try a few embedding models and gauge their performance for semantic search"
   ]
  },
  {
   "cell_type": "markdown",
   "metadata": {},
   "source": [
    "## Load Settings"
   ]
  },
  {
   "cell_type": "code",
   "execution_count": 1,
   "metadata": {},
   "outputs": [],
   "source": [
    "import os, sys\n",
    "\n",
    "## Load Settings from .env file\n",
    "from dotenv import find_dotenv, dotenv_values\n",
    "\n",
    "# _ = load_dotenv(find_dotenv()) # read local .env file\n",
    "config = dotenv_values(find_dotenv())\n",
    "\n",
    "# debug\n",
    "# print (config)\n",
    "\n",
    "ATLAS_URI = config.get('ATLAS_URI')\n",
    "\n",
    "if not ATLAS_URI:\n",
    "    raise Exception (\"'ATLAS_URI' is not set.  Please set it above to continue...\")"
   ]
  },
  {
   "cell_type": "markdown",
   "metadata": {},
   "source": [
    "## Find My Public IP\n",
    "\n",
    "This IP address should be added to Atlas's 'access list' for the connection to work"
   ]
  },
  {
   "cell_type": "code",
   "execution_count": 2,
   "metadata": {},
   "outputs": [
    {
     "name": "stdout",
     "output_type": "stream",
     "text": [
      "My public IP is 'b'67.160.193.201'.   Make sure this IP is allowed to connect to cloud Atlas\n"
     ]
    }
   ],
   "source": [
    "# import requests\n",
    "# ip = requests.get('https://api.ipify.org').text()\n",
    "\n",
    "from urllib.request import urlopen\n",
    "ip = urlopen('https://api.ipify.org').read()\n",
    "print (f\"My public IP is '{ip}.   Make sure this IP is allowed to connect to cloud Atlas\")"
   ]
  },
  {
   "cell_type": "markdown",
   "metadata": {},
   "source": [
    "## Connect to Atlas"
   ]
  },
  {
   "cell_type": "code",
   "execution_count": 3,
   "metadata": {},
   "outputs": [],
   "source": [
    "DB_NAME = 'sample_mflix'\n",
    "COLLECTION_NAME = 'embedded_movies'\n",
    "# INDEX_NAME = 'idx_plot_embedding'"
   ]
  },
  {
   "cell_type": "markdown",
   "metadata": {},
   "source": []
  },
  {
   "cell_type": "code",
   "execution_count": 4,
   "metadata": {},
   "outputs": [
    {
     "name": "stdout",
     "output_type": "stream",
     "text": [
      "Connected to the Mongo Atlas database!\n"
     ]
    }
   ],
   "source": [
    "from AtlasClient import AtlasClient\n",
    "\n",
    "atlas_client = AtlasClient (ATLAS_URI, DB_NAME)\n",
    "print(\"Connected to the Mongo Atlas database!\")"
   ]
  },
  {
   "cell_type": "markdown",
   "metadata": {},
   "source": [
    "## Get Started With Local Embeddings\n",
    "\n",
    "We are going to use HF models to create embeddings locally.\n",
    "\n",
    "Please refer to this notebook for details : [local-embeddings-test.ipynb](local-embeddings-test.ipynb)\n",
    "\n",
    "We can choose from many available options."
   ]
  },
  {
   "cell_type": "code",
   "execution_count": 5,
   "metadata": {},
   "outputs": [],
   "source": [
    "# EMBEDDING_MODEL =  'BAAI/bge-large-en-v1.5'  # embedding size = 1024\n",
    "# EMBEDDING_FIELD  = 'plot_embedding_bge_large'\n",
    "\n",
    "\n",
    "EMBEDDING_MODEL =  'BAAI/bge-small-en-v1.5'  # embedding size = 384\n",
    "\n",
    "from llama_index.embeddings import HuggingFaceEmbedding\n",
    "\n",
    "def get_embeddings (text: str) -> list[float]:\n",
    "    embed_model = HuggingFaceEmbedding(model_name=EMBEDDING_MODEL)\n",
    "    embeddings = embed_model.get_text_embedding(text)\n",
    "    return embeddings"
   ]
  },
  {
   "cell_type": "code",
   "execution_count": 6,
   "metadata": {},
   "outputs": [
    {
     "name": "stderr",
     "output_type": "stream",
     "text": [
      "/home/sujee/anaconda3/envs/atlas-1/lib/python3.10/site-packages/tqdm/auto.py:21: TqdmWarning: IProgress not found. Please update jupyter and ipywidgets. See https://ipywidgets.readthedocs.io/en/stable/user_install.html\n",
      "  from .autonotebook import tqdm as notebook_tqdm\n"
     ]
    },
    {
     "name": "stdout",
     "output_type": "stream",
     "text": [
      "embeddings length : 384\n",
      "[-0.027998557314276695, -0.04962858557701111, 0.05050567910075188, -0.019165894016623497, 0.018842166289687157]\n"
     ]
    }
   ],
   "source": [
    "embeddings = get_embeddings (\"Hello Atlas!\")\n",
    "print (f'embeddings length : {len(embeddings)}')\n",
    "print (embeddings[:5])"
   ]
  },
  {
   "cell_type": "code",
   "execution_count": 7,
   "metadata": {},
   "outputs": [
    {
     "name": "stdout",
     "output_type": "stream",
     "text": [
      "   id: 573a1391f29313caabcd68d0\n",
      "   title: From Hand to Mouth\n",
      "   plot [99]: A penniless young man tries to save an heiress from kidnappers and help her secure her inheritance.\n",
      "   embeddings :  [-0.07233031094074249, 0.027128444984555244, -0.03854302316904068, -0.04830155521631241, 0.027173439040780067]\n",
      "\n",
      "   id: 573a1391f29313caabcd8268\n",
      "   title: The Black Pirate\n",
      "   plot [96]: Seeking revenge, an athletic young man joins the pirate band responsible for his father's death.\n",
      "   embeddings :  [-0.039247386157512665, 0.025636354461312294, 0.029713360592722893, -0.06483838707208633, 0.056841544806957245]\n",
      "\n",
      "   id: 573a1391f29313caabcd93a3\n",
      "   title: Men Without Women\n",
      "   plot [57]: Navy divers clear the torpedo tube of a sunken submarine.\n",
      "   embeddings :  [-0.002184102777391672, -0.019694756716489792, -0.01831626333296299, -0.0525548979640007, 0.025484716519713402]\n",
      "\n",
      "   id: 573a1391f29313caabcd820b\n",
      "   title: Beau Geste\n",
      "   plot [192]: Michael \"Beau\" Geste leaves England in disgrace and joins the infamous French Foreign Legion. He is reunited with his two brothers in North Africa, where they face greater danger from their...\n",
      "   embeddings :  [-0.021819084882736206, 0.0704793632030487, -0.007299972232431173, 0.022376898676156998, 0.13249047100543976]\n",
      "\n",
      "   id: 573a1390f29313caabcd5293\n",
      "   title: The Perils of Pauline\n",
      "   plot [189]: Young Pauline is left a lot of money when her wealthy uncle dies. However, her uncle's secretary has been named as her guardian until she marries, at which time she will officially take ...\n",
      "   embeddings :  [-0.030162367969751358, 0.021669642999768257, 0.021604448556900024, -0.04517677426338196, 0.0595073439180851]\n",
      "\n"
     ]
    }
   ],
   "source": [
    "collection_movies = atlas_client.get_collection(COLLECTION_NAME)\n",
    "\n",
    "for movie in collection_movies.find({'plot':{\"$exists\": True}}).limit(5):\n",
    "    print (f'   id: {movie[\"_id\"]}')\n",
    "    print (f'   title: {movie[\"title\"]}')\n",
    "    print (f'   plot [{len(movie[\"plot\"])}]: {movie[\"plot\"]}')\n",
    "    embeddings = get_embeddings (movie['plot'])\n",
    "    print ('   embeddings : ', embeddings[:5])\n",
    "    print()"
   ]
  },
  {
   "cell_type": "code",
   "execution_count": null,
   "metadata": {},
   "outputs": [],
   "source": []
  }
 ],
 "metadata": {
  "kernelspec": {
   "display_name": "atlas-1",
   "language": "python",
   "name": "python3"
  },
  "language_info": {
   "codemirror_mode": {
    "name": "ipython",
    "version": 3
   },
   "file_extension": ".py",
   "mimetype": "text/x-python",
   "name": "python",
   "nbconvert_exporter": "python",
   "pygments_lexer": "ipython3",
   "version": "3.10.13"
  }
 },
 "nbformat": 4,
 "nbformat_minor": 2
}

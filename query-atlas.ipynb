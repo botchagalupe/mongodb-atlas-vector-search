{
 "cells": [
  {
   "cell_type": "markdown",
   "metadata": {},
   "source": [
    "# Vector Search on Mongo Atlas\n",
    "\n",
    "This notebook will show you how to connect and do vector/embedding query on [Mongo Atlas DB](https://www.mongodb.com/atlas).\n",
    "\n",
    "We need the following:\n",
    "- Atlas cloud account\n",
    "- OpenAI API key\n",
    "\n",
    "### Setup `.env` file\n",
    "\n",
    "Create an `.env` file with the following content:\n",
    "\n",
    "Replace `ATLAS_URI` and `OPENAI_APIKEY` with your own\n",
    "\n",
    "\n",
    "```text\n",
    "ATLAS_URI=mongodb+srv://<username>:<password>@sandbox.lqlql.mongodb.net/?retryWrites=true&w=majority\n",
    "OPENAI_API_KEY=replace-me\n",
    "```\n",
    "\n",
    "### Other python classes used\n",
    "\n",
    "- [OpenAIClient.py](OpenAIClient.py) - a handy class to intereact with openAI\n",
    "- [AtlasClient.py](AtlasClient.py) - class to interact with Atlas\n",
    "\n",
    "References\n",
    "\n",
    "- https://www.mongodb.com/developer/products/atlas/semantic-search-mongodb-atlas-vector-search/\n",
    "- https://www.mongodb.com/languages/python/pymongo-tutorial\n",
    "- https://cookbook.openai.com/examples/vector_databases/mongodb_atlas/semantic_search_using_mongodb_atlas_vector_search"
   ]
  },
  {
   "cell_type": "code",
   "execution_count": 14,
   "metadata": {},
   "outputs": [],
   "source": [
    "import os, sys\n",
    "import pprint\n",
    "import json\n",
    "import time"
   ]
  },
  {
   "cell_type": "markdown",
   "metadata": {},
   "source": [
    "## Load Settings"
   ]
  },
  {
   "cell_type": "code",
   "execution_count": 15,
   "metadata": {},
   "outputs": [],
   "source": [
    "## Load Settings from .env file\n",
    "from dotenv import find_dotenv, dotenv_values\n",
    "\n",
    "# _ = load_dotenv(find_dotenv()) # read local .env file\n",
    "config = dotenv_values(find_dotenv())\n",
    "\n",
    "# debug\n",
    "# print (config)\n",
    "\n",
    "ATLAS_URI = config.get('ATLAS_URI')\n",
    "OPENAI_API_KEY = config.get(\"OPENAI_API_KEY\")\n",
    "\n",
    "if not ATLAS_URI:\n",
    "    raise Exception (\"'ATLAS_URI' is not set.  Please set it above to continue...\")\n",
    "\n",
    "\n",
    "if not OPENAI_API_KEY:\n",
    "    raise Exception (\"'OPENAI_API_KEY' is not set.  Please set it above to continue...\")"
   ]
  },
  {
   "cell_type": "code",
   "execution_count": 16,
   "metadata": {},
   "outputs": [],
   "source": [
    "# Our variables\n",
    "\n",
    "DB_NAME = 'sample_mflix'\n",
    "COLLECTION_NAME = 'embedded_movies'\n",
    "INDEX_NAME = 'idx_plot_embedding'"
   ]
  },
  {
   "cell_type": "markdown",
   "metadata": {},
   "source": [
    "## Find My Public IP\n",
    "\n",
    "This IP address should be added to Atlas's 'access list' for the connection to work"
   ]
  },
  {
   "cell_type": "code",
   "execution_count": 17,
   "metadata": {},
   "outputs": [
    {
     "name": "stdout",
     "output_type": "stream",
     "text": [
      "My public IP is 'b'67.160.193.201'.   Make sure this IP is allowed to connect to cloud Atlas\n"
     ]
    }
   ],
   "source": [
    "# import requests\n",
    "# ip = requests.get('https://api.ipify.org').text()\n",
    "\n",
    "from urllib.request import urlopen\n",
    "ip = urlopen('https://api.ipify.org').read()\n",
    "print (f\"My public IP is '{ip}.   Make sure this IP is allowed to connect to cloud Atlas\")"
   ]
  },
  {
   "cell_type": "markdown",
   "metadata": {},
   "source": [
    "## Initialize Mongo Atlas Client"
   ]
  },
  {
   "cell_type": "code",
   "execution_count": 18,
   "metadata": {},
   "outputs": [
    {
     "name": "stdout",
     "output_type": "stream",
     "text": [
      "Connected to the Mongo Atlas database!\n"
     ]
    }
   ],
   "source": [
    "from AtlasClient import AtlasClient\n",
    "\n",
    "atlas_client = AtlasClient (ATLAS_URI, DB_NAME)\n",
    "print(\"Connected to the Mongo Atlas database!\")"
   ]
  },
  {
   "cell_type": "markdown",
   "metadata": {},
   "source": [
    "## Do Some Sample Queries"
   ]
  },
  {
   "cell_type": "code",
   "execution_count": 19,
   "metadata": {},
   "outputs": [
    {
     "name": "stdout",
     "output_type": "stream",
     "text": [
      "======== Finding some sample movies ========================\n",
      "Found 5 movies\n",
      "1\n",
      "id: 573a1391f29313caabcd68d0\n",
      "title: From Hand to Mouth,\n",
      "year: 1919\n",
      "plot: A penniless young man tries to save an heiress from kidnappers and help her secure her inheritance.\n",
      "\n",
      "2\n",
      "id: 573a1391f29313caabcd8268\n",
      "title: The Black Pirate,\n",
      "year: 1926\n",
      "plot: Seeking revenge, an athletic young man joins the pirate band responsible for his father's death.\n",
      "\n",
      "3\n",
      "id: 573a1391f29313caabcd93a3\n",
      "title: Men Without Women,\n",
      "year: 1930\n",
      "plot: Navy divers clear the torpedo tube of a sunken submarine.\n",
      "\n",
      "4\n",
      "id: 573a1391f29313caabcd820b\n",
      "title: Beau Geste,\n",
      "year: 1926\n",
      "plot: Michael \"Beau\" Geste leaves England in disgrace and joins the infamous French Foreign Legion. He is reunited with his two brothers in North Africa, where they face greater danger from their...\n",
      "\n",
      "5\n",
      "id: 573a1390f29313caabcd5293\n",
      "title: The Perils of Pauline,\n",
      "year: 1914\n",
      "plot: Young Pauline is left a lot of money when her wealthy uncle dies. However, her uncle's secretary has been named as her guardian until she marries, at which time she will officially take ...\n",
      "\n",
      "================================\n"
     ]
    }
   ],
   "source": [
    "## first find some movies\n",
    "print ('======== Finding some sample movies ========================')\n",
    "movies = atlas_client.find (collection_name=COLLECTION_NAME, limit=5)\n",
    "print (f\"Found {len (movies)} movies\")\n",
    "for idx, movie in enumerate (movies):\n",
    "    print(f'{idx+1}\\nid: {movie[\"_id\"]}\\ntitle: {movie[\"title\"]},\\nyear: {movie[\"year\"]}\\nplot: {movie[\"plot\"]}\\n')\n",
    "print ('================================')"
   ]
  },
  {
   "cell_type": "code",
   "execution_count": 20,
   "metadata": {},
   "outputs": [
    {
     "name": "stdout",
     "output_type": "stream",
     "text": [
      "=======  Finding movies from year 1999 =========================\n",
      "Found 5 movies from year 1999\n",
      "1\n",
      "id: 573a139af29313caabcf0cfd\n",
      "title: Three Kings,\n",
      "year: 1999\n",
      "plot: In the aftermath of the Persian Gulf War, 4 soldiers set out to steal gold that was stolen from Kuwait, but they discover people who desperately need their help.\n",
      "\n",
      "2\n",
      "id: 573a139af29313caabcf0e6c\n",
      "title: The Mummy,\n",
      "year: 1999\n",
      "plot: An American serving in the French Foreign Legion on an archaeological dig at the ancient city of Hamunaptra accidentally awakens a Mummy.\n",
      "\n",
      "3\n",
      "id: 573a139af29313caabcf0e61\n",
      "title: Beowulf,\n",
      "year: 1999\n",
      "plot: A sci-fi update of the famous 6th Century poem. In a beseiged land, Beowulf must battle against the hideous creature Grendel and his vengeance seeking mother.\n",
      "\n",
      "4\n",
      "id: 573a139af29313caabcf0e95\n",
      "title: The 13th Warrior,\n",
      "year: 1999\n",
      "plot: A man, having fallen in love with the wrong woman, is sent by the sultan himself on a diplomatic mission to a distant land as an ambassador. Stopping at a Viking village port to restock on supplies, he finds himself unwittingly embroiled on a quest to banish a mysterious threat in a distant Viking land.\n",
      "\n",
      "5\n",
      "id: 573a139af29313caabcf0edf\n",
      "title: The Mod Squad,\n",
      "year: 1999\n",
      "plot: Three minor delinquints (Danes, Ribisi, and Epps) are recruited by a cop (Farina) working undercover to bust a cop/drug ring. When the officer who recruited them is killed, they go above ...\n",
      "\n"
     ]
    }
   ],
   "source": [
    "print ('=======  Finding movies from year 1999 =========================')\n",
    "movies_1999 = atlas_client.find(collection_name=COLLECTION_NAME, filter={\"year\": 1999}, limit=5)\n",
    "print (f\"Found {len (movies_1999)} movies from year 1999\")\n",
    "for idx, movie in enumerate (movies_1999):\n",
    "    print(f'{idx+1}\\nid: {movie[\"_id\"]}\\ntitle: {movie[\"title\"]},\\nyear: {movie[\"year\"]}\\nplot: {movie[\"plot\"]}\\n')"
   ]
  },
  {
   "cell_type": "markdown",
   "metadata": {},
   "source": [
    "## Initialize OpenAI Client"
   ]
  },
  {
   "cell_type": "code",
   "execution_count": 21,
   "metadata": {},
   "outputs": [
    {
     "name": "stdout",
     "output_type": "stream",
     "text": [
      "OpenAI client initialized\n"
     ]
    }
   ],
   "source": [
    "from OpenAIClient import OpenAIClient\n",
    "\n",
    "openAI_client = OpenAIClient (api_key=OPENAI_API_KEY)\n",
    "print (\"OpenAI client initialized\")"
   ]
  },
  {
   "cell_type": "markdown",
   "metadata": {},
   "source": [
    "## Try a Quick Embedding Test"
   ]
  },
  {
   "cell_type": "code",
   "execution_count": 22,
   "metadata": {},
   "outputs": [
    {
     "name": "stdout",
     "output_type": "stream",
     "text": [
      "Embedding for text='a futuristic Sci-fi movie', embeddding_length=1536, printing first few numbers... :\n",
      " [-0.008840689435601234, -0.034085843712091446, -0.011264224536716938, -0.030672045424580574, 0.009133859537541866, 0.015166636556386948, -0.021590305492281914, -0.027388548478484154, -0.006205421406775713, -0.016391433775424957]\n"
     ]
    }
   ],
   "source": [
    "## Search by embeddings\n",
    "\n",
    "plot = 'a futuristic Sci-fi movie'\n",
    "\n",
    "embedding = openAI_client.get_embedding(plot)\n",
    "print (f\"Embedding for text='{plot}', embeddding_length={len(embedding)}, printing first few numbers... :\\n\", embedding [:10] )\n"
   ]
  },
  {
   "cell_type": "markdown",
   "metadata": {},
   "source": [
    "## Create an Alas Index\n",
    "\n",
    "Follow [this guide](setup-atlas-index.md) here to create an index.\n",
    "\n",
    "**Note: Do not skip this step, we need an active index to perform vector search**"
   ]
  },
  {
   "cell_type": "markdown",
   "metadata": {},
   "source": [
    "## Do an Embedding Search\n",
    "\n",
    "This is going to be fun.  We are going to query movies, not just on plot keywords but 'meaning'.\n",
    "\n",
    "See the examples below.  And try your own!"
   ]
  },
  {
   "cell_type": "code",
   "execution_count": 23,
   "metadata": {},
   "outputs": [
    {
     "name": "stdout",
     "output_type": "stream",
     "text": [
      "Found 10 movies\n",
      "1\n",
      "id: 573a1398f29313caabce8f83\n",
      "title: V: The Final Battle,\n",
      "year: 1984\n",
      "plot: A small group of human resistance fighters fight a desperate guerilla war against the genocidal extra-terrestrials who dominate Earth.\n",
      "\n",
      "2\n",
      "id: 573a13d7f29313caabda215e\n",
      "title: Pixels,\n",
      "year: 2015\n",
      "plot: When aliens misinterpret video feeds of classic arcade games as a declaration of war, they attack the Earth in the form of the video games.\n",
      "\n",
      "3\n",
      "id: 573a139ff29313caabd000f6\n",
      "title: Battlefield Earth,\n",
      "year: 2000\n",
      "plot: After enslavement & near extermination by an alien race in the year 3000, humanity begins to fight back.\n",
      "\n",
      "4\n",
      "id: 573a13c7f29313caabd75324\n",
      "title: Falling Skies,\n",
      "year: 2011è\n",
      "plot: Survivors of an alien attack on earth gather together to fight for their lives and fight back.\n",
      "\n",
      "5\n",
      "id: 573a13a9f29313caabd1e90b\n",
      "title: Battlestar Galactica,\n",
      "year: 2003\n",
      "plot: A re-imagining of the original series in which a \"rag-tag fugitive fleet\" of the last remnants of mankind flees pursuing robots while simultaneously searching for their true home, Earth.\n",
      "\n",
      "6\n",
      "id: 573a13bef29313caabd5b759\n",
      "title: Futurama: Bender's Game,\n",
      "year: 2008\n",
      "plot: The Planet Express crew get trapped in a fantasy world.\n",
      "\n",
      "7\n",
      "id: 573a139af29313caabcf0cff\n",
      "title: Starship Troopers,\n",
      "year: 1997\n",
      "plot: Humans in a fascistic, militaristic future do battle with giant alien bugs in a fight for survival.\n",
      "\n",
      "8\n",
      "id: 573a1397f29313caabce6b15\n",
      "title: Buck Rogers in the 25th Century,\n",
      "year: 1979\n",
      "plot: A 20th century astronaut emerges out of 500 years of suspended animation into a future time where Earth is threatened by alien invaders.\n",
      "\n",
      "9\n",
      "id: 573a13bff29313caabd5fcd1\n",
      "title: District 9,\n",
      "year: 2009\n",
      "plot: An extraterrestrial race forced to live in slum-like conditions on Earth suddenly finds a kindred spirit in a government agent who is exposed to their biotechnology.\n",
      "\n",
      "10\n",
      "id: 573a1392f29313caabcdacf0\n",
      "title: Flash Gordon,\n",
      "year: 1936\n",
      "plot: Three earthlings visit the planet Mongo to thwart the evil schemes of Emperor Ming the Merciless.\n",
      "\n"
     ]
    }
   ],
   "source": [
    "\n",
    "query=\"imaginary characters from outerspace at war with earthlings\"\n",
    "\n",
    "embedding = openAI_client.get_embedding(query)\n",
    "movies = atlas_client.vector_search(collection_name=COLLECTION_NAME, index_name=INDEX_NAME, attr_name='plot_embedding', embedding_vector=embedding,limit=10 )\n",
    "print (f\"Found {len (movies)} movies\")\n",
    "for idx, movie in enumerate (movies):\n",
    "    print(f'{idx+1}\\nid: {movie[\"_id\"]}\\ntitle: {movie[\"title\"]},\\nyear: {movie[\"year\"]}\\nplot: {movie[\"plot\"]}\\n')"
   ]
  },
  {
   "cell_type": "code",
   "execution_count": 24,
   "metadata": {},
   "outputs": [
    {
     "name": "stdout",
     "output_type": "stream",
     "text": [
      "Found 10 movies\n",
      "1\n",
      "id: 573a139af29313caabcf0cff\n",
      "title: Starship Troopers,\n",
      "year: 1997\n",
      "plot: Humans in a fascistic, militaristic future do battle with giant alien bugs in a fight for survival.\n",
      "\n",
      "2\n",
      "id: 573a139ff29313caabcff478\n",
      "title: Terminator 3: Rise of the Machines,\n",
      "year: 2003\n",
      "plot: A cybernetic warrior from a post-apocalyptic future travels back in time to protect a 19-year old drifter and his future wife from a most advanced robotic assassin and to ensure they both survive a nuclear attack.\n",
      "\n",
      "3\n",
      "id: 573a1397f29313caabce61a5\n",
      "title: Logan's Run,\n",
      "year: 1976\n",
      "plot: An idyllic sci-fi future has one major drawback: life must end at 30.\n",
      "\n",
      "4\n",
      "id: 573a13adf29313caabd2ae08\n",
      "title: Starship Troopers 2: Hero of the Federation,\n",
      "year: 2004\n",
      "plot: In the sequel to Paul Verhoeven's loved/reviled sci-fi film, a group of troopers taking refuge in an abandoned outpost after fighting alien bugs, failing to realize that more danger lays in wait.\n",
      "\n",
      "5\n",
      "id: 573a13b5f29313caabd4473e\n",
      "title: Wristcutters: A Love Story,\n",
      "year: 2006\n",
      "plot: A film set in a strange afterlife way station that has been reserved for people who have committed suicide.\n",
      "\n",
      "6\n",
      "id: 573a13d4f29313caabd9887f\n",
      "title: Abiogenesis,\n",
      "year: 2011\n",
      "plot: In this breathtaking science fiction spectacle, a strange mechanical device lands on a desolate world and uses the planet to undergo a startling transformation, that has profound implications for an entire galaxy.\n",
      "\n",
      "7\n",
      "id: 573a1398f29313caabcea9bc\n",
      "title: RoboCop,\n",
      "year: 1987\n",
      "plot: In a dystopic and crime-ridden Detroit, a terminally wounded cop returns to the force as a powerful cyborg haunted by submerged memories.\n",
      "\n",
      "8\n",
      "id: 573a1397f29313caabce6b15\n",
      "title: Buck Rogers in the 25th Century,\n",
      "year: 1979\n",
      "plot: A 20th century astronaut emerges out of 500 years of suspended animation into a future time where Earth is threatened by alien invaders.\n",
      "\n",
      "9\n",
      "id: 573a13c1f29313caabd63327\n",
      "title: 2012,\n",
      "year: 2009\n",
      "plot: A frustrated writer struggles to keep his family alive when a series of global catastrophes threatens to annihilate mankind.\n",
      "\n",
      "10\n",
      "id: 573a13b3f29313caabd3da33\n",
      "title: Knowing,\n",
      "year: 2009\n",
      "plot: M.I.T. professor John Koestler links a mysterious list of numbers from a time capsule to past and future disasters and sets out to prevent the ultimate catastrophe.\n",
      "\n"
     ]
    }
   ],
   "source": [
    "query=\"fatalistic sci-fi movies\"\n",
    "\n",
    "embedding = openAI_client.get_embedding(query)\n",
    "movies = atlas_client.vector_search(collection_name=COLLECTION_NAME, index_name=INDEX_NAME, attr_name='plot_embedding', embedding_vector=embedding,limit=10 )\n",
    "print (f\"Found {len (movies)} movies\")\n",
    "for idx, movie in enumerate (movies):\n",
    "    print(f'{idx+1}\\nid: {movie[\"_id\"]}\\ntitle: {movie[\"title\"]},\\nyear: {movie[\"year\"]}\\nplot: {movie[\"plot\"]}\\n')"
   ]
  },
  {
   "cell_type": "markdown",
   "metadata": {},
   "source": [
    "### Try your own searches!\n",
    "\n",
    "Update the query string to what ever you like, and run it"
   ]
  },
  {
   "cell_type": "code",
   "execution_count": 25,
   "metadata": {},
   "outputs": [
    {
     "name": "stdout",
     "output_type": "stream",
     "text": [
      "Found 10 movies\n",
      "1\n",
      "id: 573a13b1f29313caabd37bd3\n",
      "title: Rampo Noir,\n",
      "year: 2005\n",
      "plot: Mars Canal - Within absolute silence, a naked man wanders through a dark and depressing landscape recalling the excruciating details of his last encounter with his former lover...\n",
      "\n",
      "2\n",
      "id: 573a1398f29313caabceacad\n",
      "title: Amsterdamned,\n",
      "year: 1988\n",
      "plot: A mysterious diver hiding in Amsterdam's canal system embarks on a rampage of gruesome murders, terrifying city officials and leaving few clues for the city's best detective, who doesn't ...\n",
      "\n",
      "3\n",
      "id: 573a13b6f29313caabd48c52\n",
      "title: Tales from Earthsea,\n",
      "year: 2006\n",
      "plot: In a mythical land, a man and a young boy investigate a series of unusual occurrences.\n",
      "\n",
      "4\n",
      "id: 573a13e8f29313caabdca460\n",
      "title: The Nostalgist,\n",
      "year: 2014\n",
      "plot: In the futuristic city of Vanille, with properly tuned ImmerSyst Eyes & Ears the world can look and sound like a paradise. But the life of a father and his young son threatens to ...\n",
      "\n",
      "5\n",
      "id: 573a13d5f29313caabd9b905\n",
      "title: Jellyfish Eyes,\n",
      "year: 2013\n",
      "plot: In Japan, the small Masashi moves from one evacuation center to a small town. There you will discover that every child has the right to communicate with a fantastic creature, but these are ...\n",
      "\n",
      "6\n",
      "id: 573a139af29313caabcef348\n",
      "title: Rumble in the Bronx,\n",
      "year: 1995\n",
      "plot: A young man visiting and helping his uncle in New York City finds himself forced to fight a street gang and the mob with his martial art skills.\n",
      "\n",
      "7\n",
      "id: 573a13a0f29313caabd02986\n",
      "title: The Wrestler,\n",
      "year: 1985\n",
      "plot: Ageing wrestler and circus strongman is put in an institution located somewhere in a world of its own, next to an abandoned railway station with pigs running loose on the tracks in almost ...\n",
      "\n",
      "8\n",
      "id: 573a1399f29313caabced468\n",
      "title: Pigs,\n",
      "year: 1992\n",
      "plot: In good old days Franz Maurer and his partners from secret police used to live like kings. Now, they all must adapt to new post-communist environment where they are scorned and losing all ...\n",
      "\n",
      "9\n",
      "id: 573a13b8f29313caabd4d094\n",
      "title: The Bothersome Man,\n",
      "year: 2006\n",
      "plot: In a strange city where every person seems content beyond reason a new man arrives in town and stirs up trouble by asking too many questions.\n",
      "\n",
      "10\n",
      "id: 573a1398f29313caabceb977\n",
      "title: Paperhouse,\n",
      "year: 1988\n",
      "plot: A young girl lost in the loneliness and boredom of reality finds solace in an ill boy, whom she can visit in a surreal dream world that she drew in her school composition book.\n",
      "\n"
     ]
    }
   ],
   "source": [
    "## TODO: enter your query here\n",
    "query=\"???\"\n",
    "\n",
    "embedding = openAI_client.get_embedding(query)\n",
    "movies = atlas_client.vector_search(collection_name=COLLECTION_NAME, index_name=INDEX_NAME, attr_name='plot_embedding', embedding_vector=embedding,limit=10 )\n",
    "print (f\"Found {len (movies)} movies\")\n",
    "for idx, movie in enumerate (movies):\n",
    "    print(f'{idx+1}\\nid: {movie[\"_id\"]}\\ntitle: {movie[\"title\"]},\\nyear: {movie[\"year\"]}\\nplot: {movie[\"plot\"]}\\n')"
   ]
  },
  {
   "cell_type": "code",
   "execution_count": 26,
   "metadata": {},
   "outputs": [],
   "source": [
    "## Close connection\n",
    "\n",
    "# mongodb_client.close()"
   ]
  }
 ],
 "metadata": {
  "kernelspec": {
   "display_name": "atlas-1",
   "language": "python",
   "name": "python3"
  },
  "language_info": {
   "codemirror_mode": {
    "name": "ipython",
    "version": 3
   },
   "file_extension": ".py",
   "mimetype": "text/x-python",
   "name": "python",
   "nbconvert_exporter": "python",
   "pygments_lexer": "ipython3",
   "version": "3.10.13"
  }
 },
 "nbformat": 4,
 "nbformat_minor": 2
}

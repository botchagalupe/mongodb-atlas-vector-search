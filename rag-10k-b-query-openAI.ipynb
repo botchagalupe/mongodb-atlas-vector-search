{
 "cells": [
  {
   "cell_type": "markdown",
   "metadata": {},
   "source": [
    "#  RAG 10k Query"
   ]
  },
  {
   "cell_type": "markdown",
   "metadata": {},
   "source": [
    "## Basic Setup"
   ]
  },
  {
   "cell_type": "code",
   "execution_count": 1,
   "metadata": {},
   "outputs": [
    {
     "name": "stdout",
     "output_type": "stream",
     "text": [
      "using CUDA/GPU:  True\n",
      "device  0 NVIDIA GeForce RTX 2070\n"
     ]
    }
   ],
   "source": [
    "## Check if GPU is enabled\n",
    "import os\n",
    "import torch\n",
    "\n",
    "## To disable GPU and experiment, uncomment the following line\n",
    "## Normally, you would want to use GPU, if one is available.\n",
    "# os.environ[\"CUDA_VISIBLE_DEVICES\"]=\"\"\n",
    "\n",
    "print (\"using CUDA/GPU: \", torch.cuda.is_available())\n",
    "\n",
    "for i in range(torch.cuda.device_count()):\n",
    "   print(\"device \", i , torch.cuda.get_device_properties(i).name)"
   ]
  },
  {
   "cell_type": "code",
   "execution_count": 2,
   "metadata": {},
   "outputs": [],
   "source": [
    "## Setup logging.  To see more loging set the level to DEBUG\n",
    "\n",
    "import sys\n",
    "import logging\n",
    "\n",
    "# logging.basicConfig(stream=sys.stdout, level=logging.DEBUG)\n",
    "logging.basicConfig(stream=sys.stdout, level=logging.WARNING)\n",
    "logging.getLogger().addHandler(logging.StreamHandler(stream=sys.stdout))"
   ]
  },
  {
   "cell_type": "markdown",
   "metadata": {},
   "source": [
    "## Step-1: Load Settings"
   ]
  },
  {
   "cell_type": "code",
   "execution_count": 3,
   "metadata": {},
   "outputs": [],
   "source": [
    "import os,sys\n",
    "## Load Settings from .env file\n",
    "from dotenv import find_dotenv, dotenv_values\n",
    "\n",
    "# _ = load_dotenv(find_dotenv()) # read local .env file\n",
    "config = dotenv_values(find_dotenv())\n",
    "\n",
    "# debug\n",
    "# print (config)\n",
    "\n",
    "ATLAS_URI = config.get('ATLAS_URI')\n",
    "\n",
    "if not ATLAS_URI:\n",
    "    raise Exception (\"'ATLAS_URI' is not set.  Please set it above to continue...\")\n",
    "\n",
    "## Only need this if we are using OpenAI for Embeddings\n",
    "OPENAI_API_KEY = config.get(\"OPENAI_API_KEY\")\n",
    "if not OPENAI_API_KEY:\n",
    "    raise Exception (\"'OPENAI_API_KEY' is not set.  Please set it above to continue...\")"
   ]
  },
  {
   "cell_type": "code",
   "execution_count": 4,
   "metadata": {},
   "outputs": [],
   "source": [
    "DB_NAME = 'rag1'\n",
    "COLLECTION_NAME = '10k'\n",
    "INDEX_NAME = 'idx_embedding'"
   ]
  },
  {
   "cell_type": "code",
   "execution_count": 5,
   "metadata": {},
   "outputs": [],
   "source": [
    "import os\n",
    "## LlamaIndex will download embeddings models as needed.\n",
    "## Set llamaindex cache dir to ./cache dir here (Default is system tmp)\n",
    "## This way, we can easily see downloaded artifacts\n",
    "os.environ['LLAMA_INDEX_CACHE_DIR'] = os.path.join(os.path.abspath(''), 'cache')"
   ]
  },
  {
   "cell_type": "code",
   "execution_count": 6,
   "metadata": {},
   "outputs": [
    {
     "name": "stdout",
     "output_type": "stream",
     "text": [
      "Atlas client initialized\n"
     ]
    }
   ],
   "source": [
    "from pymongo import MongoClient\n",
    "\n",
    "mongodb_client = MongoClient(ATLAS_URI)\n",
    "\n",
    "print (\"Atlas client initialized\")"
   ]
  },
  {
   "cell_type": "markdown",
   "metadata": {},
   "source": [
    "## Setup Embeddings\n",
    "\n",
    "The default embedding is OpenAI.  We can always plugin custom embeddings"
   ]
  },
  {
   "cell_type": "markdown",
   "metadata": {},
   "source": [
    "### OpenAI Embeddings\n",
    "\n",
    "This is using OpenAI embedding model\n",
    "You will need an API key (defined in env variable : OPENAI_API_KEY)"
   ]
  },
  {
   "cell_type": "code",
   "execution_count": 7,
   "metadata": {},
   "outputs": [],
   "source": [
    "# from llama_index import  OpenAIEmbedding\n",
    "# embed_model = OpenAIEmbedding()"
   ]
  },
  {
   "cell_type": "markdown",
   "metadata": {},
   "source": [
    "### Using Custom Embeddings\n",
    "\n",
    "Remember this embedding model must be the same as in `populate` step. "
   ]
  },
  {
   "cell_type": "code",
   "execution_count": 8,
   "metadata": {},
   "outputs": [
    {
     "name": "stderr",
     "output_type": "stream",
     "text": [
      "/home/sujee/anaconda3/envs/atlas-2/lib/python3.11/site-packages/tqdm/auto.py:21: TqdmWarning: IProgress not found. Please update jupyter and ipywidgets. See https://ipywidgets.readthedocs.io/en/stable/user_install.html\n",
      "  from .autonotebook import tqdm as notebook_tqdm\n"
     ]
    }
   ],
   "source": [
    "from llama_index.embeddings import HuggingFaceEmbedding\n",
    "embed_model = HuggingFaceEmbedding(model_name=\"BAAI/bge-small-en-v1.5\")"
   ]
  },
  {
   "cell_type": "code",
   "execution_count": 9,
   "metadata": {},
   "outputs": [],
   "source": [
    "from llama_index import  ServiceContext\n",
    "from llama_index.llms import OpenAI\n",
    "\n",
    "# The LLM used to generate natural language responses to queries.\n",
    "# If not provided, defaults to gpt-3.5-turbo from OpenAI\n",
    "# If your OpenAI key is not set, defaults to llama2-chat-13B from Llama.cpp\n",
    "\n",
    "## Here are the models available : https://platform.openai.com/docs/models\n",
    "##  gpt-3.5-turbo  |   gpt-4  | gpt-4-turbo\n",
    "\n",
    "#  | model         | context window |\n",
    "#  |---------------|----------------|\n",
    "#  | gpt-3.5-turbo | 4,096          |\n",
    "#  | gpt-4         | 8,192          |\n",
    "#  | gpt-4-turbo   | 128,000        |\n",
    "\n",
    "\n",
    "## set temperature=0 for predictable results\n",
    "\n",
    "llm = OpenAI(model=\"gpt-3.5-turbo\", temperature=0)\n",
    "## setup embed model\n",
    "\n",
    "service_context = ServiceContext.from_defaults(embed_model=embed_model, llm=llm)"
   ]
  },
  {
   "cell_type": "markdown",
   "metadata": {},
   "source": [
    "## Connect Illama-Index and MongoDB Atlas\n",
    "\n",
    "Let's define MongoDB Atlas as our vector storage. This is critical to stored indexed data and then query"
   ]
  },
  {
   "cell_type": "code",
   "execution_count": 10,
   "metadata": {},
   "outputs": [],
   "source": [
    "from llama_index.vector_stores.mongodb import MongoDBAtlasVectorSearch\n",
    "from llama_index.storage.storage_context import StorageContext\n",
    "from llama_index.indices.vector_store.base import VectorStoreIndex\n",
    "\n",
    "\n",
    "vector_store = MongoDBAtlasVectorSearch(mongodb_client = mongodb_client,\n",
    "                                 db_name = DB_NAME, collection_name = COLLECTION_NAME,\n",
    "                                 index_name  = 'idx_embedding',\n",
    "                                 ## the following columns are set to default values\n",
    "                                 # embedding_key = 'embedding', text_key = 'text', metadata_= 'metadata',\n",
    "                                 )\n",
    "storage_context = StorageContext.from_defaults(vector_store=vector_store)\n",
    "\n",
    "index = VectorStoreIndex.from_vector_store(vector_store=vector_store, service_context=service_context)"
   ]
  },
  {
   "cell_type": "markdown",
   "metadata": {},
   "source": [
    "## Query Data / Ask Questions\n",
    "\n",
    "Now that we have every thing setup, let's ask some questions"
   ]
  },
  {
   "cell_type": "code",
   "execution_count": 17,
   "metadata": {},
   "outputs": [
    {
     "name": "stdout",
     "output_type": "stream",
     "text": [
      "Uber's revenue for the years ended December 31, 2019, 2020, and 2021 was $13,000 million, $11,139 million, and $17,455 million, respectively.\n",
      "\n",
      "Response(response=\"Uber's revenue for the years ended December 31, 2019, 2020, \"\n",
      "                  'and 2021 was $13,000 million, $11,139 million, and $17,455 '\n",
      "                  'million, respectively.',\n",
      "         source_nodes=[   NodeWithScore(node=TextNode(id_='6ffc6aa9-7411-4535-a23d-e14323d38984', embedding=None, metadata={'page_label': '54', 'file_name': 'uber_2021.pdf', 'file_path': 'data/10k/uber_2021.pdf', 'file_type': 'application/pdf', 'file_size': 1880483, 'creation_date': '2024-01-23', 'last_modified_date': '2024-01-23', 'last_accessed_date': '2024-01-23'}, excluded_embed_metadata_keys=['file_name', 'file_type', 'file_size', 'creation_date', 'last_modified_date', 'last_accessed_date'], excluded_llm_metadata_keys=['file_name', 'file_type', 'file_size', 'creation_date', 'last_modified_date', 'last_accessed_date'], relationships={<NodeRelationship.SOURCE: '1'>: RelatedNodeInfo(node_id='25cc2bb0-b190-419b-ab34-c1bf05d5ddc4', node_type=<ObjectType.DOCUMENT: '4'>, metadata={'page_label': '54', 'file_name': 'uber_2021.pdf', 'file_path': 'data/10k/uber_2021.pdf', 'file_type': 'application/pdf', 'file_size': 1880483, 'creation_date': '2024-01-23', 'last_modified_date': '2024-01-23', 'last_accessed_date': '2024-01-23'}, hash='49deadf3eb962e78ee12d1cc30e7c86eafd4139e228472eb2a6673af1cf188ee'), <NodeRelationship.PREVIOUS: '2'>: RelatedNodeInfo(node_id='50a6bc0d-2417-4575-a288-112de628e65f', node_type=<ObjectType.TEXT: '1'>, metadata={'page_label': '54', 'file_name': 'uber_2021.pdf', 'file_path': 'data/10k/uber_2021.pdf', 'file_type': 'application/pdf', 'file_size': 1880483, 'creation_date': '2024-01-23', 'last_modified_date': '2024-01-23', 'last_accessed_date': '2024-01-23'}, hash='aa569a98d77942a3704e8a387f35e749c08a7e5be3539d104fabaf9985d8b893'), <NodeRelationship.NEXT: '3'>: RelatedNodeInfo(node_id='f885897b-afc3-4d5b-89bd-66b2904ecd0b', node_type=<ObjectType.TEXT: '1'>, metadata={}, hash='377b9b7611d291fc86ae258e33ab16bbda809dd44a7fb53c6ff0cb71b370205b')}, hash='7e9cebbd0cdcb500260c5d23e181ed4404bc687b47063bdc3bcf7cbfdbc5b4ac', text='We have concluded that we are an agent in thesearrangements\\n as we arrange for other parties to provide the service to the end-user. Under this model, revenue is net of Driver and Merchant earnings and Driverincentives. We act as an a\\ngent in these transactions by connecting consumers to Drivers and Merchants to facilitate a Trip, meal or grocery delivery service.For\\n additional  discussion  related  to  our  revenue,  see  the  section  titled  “Management’s  Discussion  and  Analysis  of  Financial  Condition  and  Results  ofOperations\\n - Critical Accounting Estimates - Revenue Recognition,” “Note 1 – Description of Business and Summary of Significant Accounting Policies,” and“Note 2\\n – Revenue” to our consolidated financial statements included in Part II, Item 8, “Financial Statements and Supplementary Data,” of this Annual Report onForm 10-K.\\nCost of Revenue, Exclusive of Depreciation and Amortizat\\nionCost of\\n revenue, exclusive of depreciation and amortization, primarily consists of certain insurance costs related to our Mobility and Delivery offerings, creditcard\\n processing fees, bank fees, data center and networking expenses, mobile device and service costs, costs incurred for certain Delivery transactions where weare primarily respons\\nible for delivery services and pay Couriers for services provided, costs incurred with carriers for Uber Freight transportation services, amountsrelated to fare chargebacks an\\nd other credit card losses.We expect that cost of \\nrevenue, exclusive of depreciation and amortization, will fluctuate on an absolute dollar basis for the foreseeable future in line with Tripvolume\\n changes on the platform. As Trips increase or decrease, we expect related changes for insurance costs, credit card processing fees, hosting and co-locateddata center expenses, m\\naps license fees, and other cost of revenue, exclusive of depreciation and amortization.52', start_char_idx=3110, end_char_idx=5018, text_template='{metadata_str}\\n\\n{content}', metadata_template='{key}: {value}', metadata_seperator='\\n'), score=0.8960101008415222),\n",
      "                          NodeWithScore(node=TextNode(id_='5f1959c2-5249-42b1-b5de-0d3259f92d88', embedding=None, metadata={'page_label': '98', 'file_name': 'uber_2021.pdf', 'file_path': 'data/10k/uber_2021.pdf', 'file_type': 'application/pdf', 'file_size': 1880483, 'creation_date': '2024-01-23', 'last_modified_date': '2024-01-23', 'last_accessed_date': '2024-01-23'}, excluded_embed_metadata_keys=['file_name', 'file_type', 'file_size', 'creation_date', 'last_modified_date', 'last_accessed_date'], excluded_llm_metadata_keys=['file_name', 'file_type', 'file_size', 'creation_date', 'last_modified_date', 'last_accessed_date'], relationships={<NodeRelationship.SOURCE: '1'>: RelatedNodeInfo(node_id='c0a4ff8e-66b8-407a-9bf4-3ae28903052c', node_type=<ObjectType.DOCUMENT: '4'>, metadata={'page_label': '98', 'file_name': 'uber_2021.pdf', 'file_path': 'data/10k/uber_2021.pdf', 'file_type': 'application/pdf', 'file_size': 1880483, 'creation_date': '2024-01-23', 'last_modified_date': '2024-01-23', 'last_accessed_date': '2024-01-23'}, hash='c03a37052b1675795f7952a56a75be42f7a3866b8095864a7632cb73bc806c9f'), <NodeRelationship.PREVIOUS: '2'>: RelatedNodeInfo(node_id='30aa49b2-faa9-4be3-a143-091a74055cfe', node_type=<ObjectType.TEXT: '1'>, metadata={'page_label': '97', 'file_name': 'uber_2021.pdf', 'file_path': 'data/10k/uber_2021.pdf', 'file_type': 'application/pdf', 'file_size': 1880483, 'creation_date': '2024-01-23', 'last_modified_date': '2024-01-23', 'last_accessed_date': '2024-01-23'}, hash='29a92b50cf42786215b3abffb6812f593f4de3cf0f500765e9ec310029d809d6'), <NodeRelationship.NEXT: '3'>: RelatedNodeInfo(node_id='50c4ca9a-03ca-484b-b260-34f9b7908515', node_type=<ObjectType.TEXT: '1'>, metadata={}, hash='dcd587e68cf25c5aea109c9985a341f6800db75fac8ff3f6629e3b6fb21d848c')}, hash='978a17917afa27d1cc78736ba7d139dd084bf5a47e9294bc897a4770c1197dbb', text='Note 2 – RevenueThe\\n following  tables  present  our  revenues  disaggregated  by  offering  and  geographical  region.  Revenue  by  geographical  region  is  based  on  where  thetransaction\\n occurred. This level of disaggregation takes into consideration how the nature, amount, timing, and uncertainty of revenue and cash flows are affectedby economic factors. Revenue \\nis presented in the following tables for the years ended December 31, 2019, 2020 and 2021, respectively (in millions):Year Ended December 31,\\n2019\\n2020 2021 Mobility revenue \\n$ 10,707 $ 6,089 $ 6,953 Delivery revenue \\n1,401 3,904 8,362 Freight revenue\\n731 1,011 2,132 All Other revenue\\n161 135 8 Total revenue\\n$ 13,000 $ 11,139 $ 17,455  We\\n offer subscription memberships to end-users including Uber One, Uber Pass, Rides Pass, and Eats Pass (“Subscription”). We recognize Subscriptionfees\\n ratably over the life of the pass. We allocate Subscription fees earned to Mobility and Delivery revenue on a proportional basis, based on usage for eachoffering during the respe\\nctive period.Year Ended December 31,\\n2019\\n2020 2021 United States and Canada\\n$ 8,465 $ 6,611 $ 10,094 Latin America (\"LatAm\")\\n1,862 1,295 1,417 Europe, Middle East and Africa \\n(\"EMEA\")1,852 2,086 3,213 Asia Pacific (\"APAC\")\\n821 1,147 2,731 Total revenue\\n$ 13,000 $ 11,139 $ 17,455 Revenue\\nMobility Revenue\\nWe derive\\n revenue primarily from fees paid by Mobility Drivers for the use of our platform(s) and related services to facilitate and complete Mobility servicesand,\\n in certain markets, revenue from fees paid by end-users for connection services obtained via the platform. Mobility revenue also includes immaterial revenuestreams\\n such as our financial partnerships products and Vehicle Solutions. Vehicle Solutions revenue is accounted for as an operating lease as defined under ASC842.\\nDelivery Revenue\\nWe\\n derive  revenue  for  Delivery  from  Merchants’  and  Couriers’  use  of  the  Delivery  platform  and  related  service  to  facilitate  and  complete  Deliverytransactions. Additionally,\\n in certain markets where we are responsible for delivery services, delivery fees charged to end-users are also included in revenue, whilepayments\\n to Couriers in exchange for delivery services are recognized in cost of revenue. Delivery also includes advertising revenue from sponsored listing feespaid by merchants and brands in \\nexchange for advertising services.Freight Revenue\\nFreight\\n revenue consists of revenue from freight transportation services provided to shippers. During the fourth quarter of 2021, we completed the acquisitionof\\n Transplace, and our Freight revenue also includes revenue from transportation management. Refer to Note 18 – Business Combinations for further informationon the Transplace acquisi\\ntion.All Other Revenue\\nAll Other revenue primar\\nily includes collaboration revenue related to our ATG business and revenue from our New Mobility offerings and products.ATG\\n collaboration revenue was related to a three-year joint collaboration agreement we entered into in 2019. During the first quarter of 2021, we completedthe sale of Apparate USA LLC (“Apparate\\n” or the “ATG Business”) to Aurora Innovation, Inc. (“Aurora”). Refer to Note 19 – Divestitures for further information.New\\n Mobility offerings and products provided users access to rides through a variety of modes, including dockless e-bikes and e-scooters (“New Mobility”),platform\\n incubator group offerings and other immaterial revenue streams. New Mobility revenue is accounted for as an operating lease as defined under ASC 842.After the JUMP divestiture during \\nthe second quarter of 2020, revenue from New Mobility products, including dockless e-bikes, was no longer material.(1)(1)\\n(1)\\n96', start_char_idx=0, end_char_idx=3736, text_template='{metadata_str}\\n\\n{content}', metadata_template='{key}: {value}', metadata_seperator='\\n'), score=0.8906027674674988)],\n",
      "         metadata={   '5f1959c2-5249-42b1-b5de-0d3259f92d88': {   'creation_date': '2024-01-23',\n",
      "                                                                  'file_name': 'uber_2021.pdf',\n",
      "                                                                  'file_path': 'data/10k/uber_2021.pdf',\n",
      "                                                                  'file_size': 1880483,\n",
      "                                                                  'file_type': 'application/pdf',\n",
      "                                                                  'last_accessed_date': '2024-01-23',\n",
      "                                                                  'last_modified_date': '2024-01-23',\n",
      "                                                                  'page_label': '98'},\n",
      "                      '6ffc6aa9-7411-4535-a23d-e14323d38984': {   'creation_date': '2024-01-23',\n",
      "                                                                  'file_name': 'uber_2021.pdf',\n",
      "                                                                  'file_path': 'data/10k/uber_2021.pdf',\n",
      "                                                                  'file_size': 1880483,\n",
      "                                                                  'file_type': 'application/pdf',\n",
      "                                                                  'last_accessed_date': '2024-01-23',\n",
      "                                                                  'last_modified_date': '2024-01-23',\n",
      "                                                                  'page_label': '54'}})\n"
     ]
    }
   ],
   "source": [
    "from IPython.display import Markdown\n",
    "from pprint import pprint\n",
    "\n",
    "response = index.as_query_engine().query(\"What was Uber's revenue?\")\n",
    "print (response)\n",
    "print()\n",
    "# display(Markdown(f\"<b>{response}</b>\"))\n",
    "pprint(response, indent=4)"
   ]
  },
  {
   "cell_type": "code",
   "execution_count": 18,
   "metadata": {},
   "outputs": [
    {
     "name": "stdout",
     "output_type": "stream",
     "text": [
      "Lyft made $2,364,681 in revenue in 2020.\n",
      "\n",
      "Response(response='Lyft made $2,364,681 in revenue in 2020.',\n",
      "         source_nodes=[   NodeWithScore(node=TextNode(id_='048978ac-93bd-4124-ad9e-d68680a5e37e', embedding=None, metadata={'page_label': '79', 'file_name': 'lyft_2021.pdf', 'file_path': 'data/10k/lyft_2021.pdf', 'file_type': 'application/pdf', 'file_size': 1440303, 'creation_date': '2024-01-23', 'last_modified_date': '2024-01-23', 'last_accessed_date': '2024-01-23'}, excluded_embed_metadata_keys=['file_name', 'file_type', 'file_size', 'creation_date', 'last_modified_date', 'last_accessed_date'], excluded_llm_metadata_keys=['file_name', 'file_type', 'file_size', 'creation_date', 'last_modified_date', 'last_accessed_date'], relationships={<NodeRelationship.SOURCE: '1'>: RelatedNodeInfo(node_id='46754c39-d2dd-43b1-9403-c3ff18aebecc', node_type=<ObjectType.DOCUMENT: '4'>, metadata={'page_label': '79', 'file_name': 'lyft_2021.pdf', 'file_path': 'data/10k/lyft_2021.pdf', 'file_type': 'application/pdf', 'file_size': 1440303, 'creation_date': '2024-01-23', 'last_modified_date': '2024-01-23', 'last_accessed_date': '2024-01-23'}, hash='9d6adb5f6c435e1d13bf4963858fc46e143f758e14ffbedf3cb9a4ce3808591a'), <NodeRelationship.PREVIOUS: '2'>: RelatedNodeInfo(node_id='7893c0ca-ada8-4bad-ab16-21f3d3d144db', node_type=<ObjectType.TEXT: '1'>, metadata={'page_label': '78', 'file_name': 'lyft_2021.pdf', 'file_path': 'data/10k/lyft_2021.pdf', 'file_type': 'application/pdf', 'file_size': 1440303, 'creation_date': '2024-01-23', 'last_modified_date': '2024-01-23', 'last_accessed_date': '2024-01-23'}, hash='0a29be3120ecf78c0cd8bd04a1934fa6281d41dba4b6e08f26ba6abba9e0269e'), <NodeRelationship.NEXT: '3'>: RelatedNodeInfo(node_id='7bff4e2f-e990-42a2-9ba5-e274f0491236', node_type=<ObjectType.TEXT: '1'>, metadata={}, hash='8949c39ee85f566ef2203d53cc8e9708d1f4650ef0b85f9b0e1588938150f3ab')}, hash='830a510368ca3e673147b3e42460c34594f50473ff8b36c4b56cab478bedc01f', text='Lyft, Inc.Consolidated Statements of Operations\\n(in thousands, except for per share data\\n) Year Ended December 31,\\n2021\\n2020 2019 Revenue\\n$ 3,208,323 $ 2,364,681 $ 3,615,960 Costs and expenses\\nCost of revenue\\n1,649,532 1,447,516 2,176,469 Operations and support\\n402,233 453,963 636,116 Research and development\\n911,946 909,126 1,505,640 Sales and marketing\\n411,406 416,331 814,122 General and administrative\\n915,638 946,127 1,186,093 Total costs and expenses\\n4,290,755 4,173,063 6,318,440 Loss from operations\\n(1,082,432) (1,808,382) (2,702,480) Interest expense\\n(51,635) (32,678) — Other income, net\\n135,933 43,669 102,595 Loss before income taxes\\n(998,134) (1,797,391) (2,599,885) Provision for (benefit fro\\nm) income taxes11,225 (44,534) 2,356 Net loss\\n$ (1,009,359) $ (1,752,857) $ (2,602,241) Net loss per share, basic and di\\nluted$ (3.02) $ (5.61) $ (11.44) Weighted-average numb\\ner of shares outstanding used to compute net loss per share, basic and diluted334,724 312,175 227,498 Stock-based compensation included in costs and expenses:\\nCost of revenue\\n$ 39,491 $ 28,743 $ 81,321 Operations and support\\n24,083 15,829 75,212 Research and development\\n414,324 325,624 971,941 Sales and marketing\\n38,243 23,385 72,046 General and administrative\\n208,419 172,226 398,791 The accompanying notes are \\nan integral part of these consolidated financial statements.79', start_char_idx=0, end_char_idx=1363, text_template='{metadata_str}\\n\\n{content}', metadata_template='{key}: {value}', metadata_seperator='\\n'), score=0.8916698694229126),\n",
      "                          NodeWithScore(node=TextNode(id_='49aa8890-31cb-4083-a333-c01c086d9d6c', embedding=None, metadata={'page_label': '58', 'file_name': 'lyft_2021.pdf', 'file_path': 'data/10k/lyft_2021.pdf', 'file_type': 'application/pdf', 'file_size': 1440303, 'creation_date': '2024-01-23', 'last_modified_date': '2024-01-23', 'last_accessed_date': '2024-01-23'}, excluded_embed_metadata_keys=['file_name', 'file_type', 'file_size', 'creation_date', 'last_modified_date', 'last_accessed_date'], excluded_llm_metadata_keys=['file_name', 'file_type', 'file_size', 'creation_date', 'last_modified_date', 'last_accessed_date'], relationships={<NodeRelationship.SOURCE: '1'>: RelatedNodeInfo(node_id='5aacd5bf-fe12-4b0e-8ce4-4e6ad025ed34', node_type=<ObjectType.DOCUMENT: '4'>, metadata={'page_label': '58', 'file_name': 'lyft_2021.pdf', 'file_path': 'data/10k/lyft_2021.pdf', 'file_type': 'application/pdf', 'file_size': 1440303, 'creation_date': '2024-01-23', 'last_modified_date': '2024-01-23', 'last_accessed_date': '2024-01-23'}, hash='97fa858efbb5266f6abd33ca30a2ad9e29ce2636b054fabfce928f121944b7e8'), <NodeRelationship.PREVIOUS: '2'>: RelatedNodeInfo(node_id='71254a4c-f782-40eb-80e5-cc3dcf815eb4', node_type=<ObjectType.TEXT: '1'>, metadata={'page_label': '57', 'file_name': 'lyft_2021.pdf', 'file_path': 'data/10k/lyft_2021.pdf', 'file_type': 'application/pdf', 'file_size': 1440303, 'creation_date': '2024-01-23', 'last_modified_date': '2024-01-23', 'last_accessed_date': '2024-01-23'}, hash='dd00756ddd7c3e3495014a0bf546c99ccc630fc346a1d155a9b1f254c80e2be0'), <NodeRelationship.NEXT: '3'>: RelatedNodeInfo(node_id='50c1fb0e-e8eb-4b93-94e4-ca609fd1ed0e', node_type=<ObjectType.TEXT: '1'>, metadata={}, hash='5d039a8bdbb492ba8cdfaead89eccd791262e9ee34818fc07833fa938b408704')}, hash='3bfabf1e87d2ff8de3c5fe2b7c224e2368ae646c872dba59ae9e4e2747a00ebf', text=\"Revenue per Active Rider2021\\n2020 2019 2020 to 2021 %Change\\n2019 to 2020 %Change\\nThree Months Ended March 31\\n$45.13 $45.06 $37.86 0.2% 19.0% Three Months Ended June 30\\n$44.63 $39.06 $39.77 14.3% (1.8)% Three Months Ended September 30\\n$45.63 $39.94 $42.82 14.2% (6.7)% Three Months Ended December 31\\n$51.79 $45.40 $44.40 14.1% 2.3% We define Active Riders as \\nall riders who take at least one ride during a quarter where the Lyft Platform processes the transaction. An Active Rider is identified bya\\n unique phone number. If a rider has two mobile phone numbers or changed their phone number and such rider took rides using both phone numbers during the quarter,that person would count\\n as two Active Riders. If a rider has a personal and business profile tied to the same mobile phone number, that person would be considered a singleActive Rider. If a ride has been requested by an\\n organization using our Concierge offering for the benefit of a rider, we exclude this rider in the calculation of Active Ridersunless the ride is access\\nible in the Lyft App. Revenue per Active Rider is calculated by dividing revenue for a period by Active Riders for the same period.Beginning\\n in the fourth quarter of 2020, some riders were able to access their Concierge rides in the Lyft App if they already had a Lyft account. Accordingly,Lyft\\n updated the definition of Active Riders to include Concierge riders if the rider’s phone number matches that of a verified Lyft account, allowing the rider to accesstheir\\n ride in the Lyft App. This update resulted in a 0.01% increase, or an additional 927 Active Riders in the fourth quarter of 2020. Prior to the fourth quarter of 2020, allConcierge riders were exc\\nluded from the calculation of Active Riders as Concierge rides could not be matched with verified rider accounts.With\\n the exception of the three months ended March 31, 2021 as compared to the three months ended March 31, 2020, Active Riders in each of the three monthperiods\\n ended  June  30,  September  30,  and  December  31,  2021  increased  compared  to  the  same  period  in  2020  as  vaccines  were  more  widely  distributed  and  morecommunities\\n fully reopened. Active Riders in the three months periods ended June 30, September 30, and December 31, 2020 represented significantly lower Active Ridercounts\\n since shelter-in-place orders and other travel restrictions were first implemented across North America in response to the COVID-19 pandemic in March 2020. Theslight decrease in the number of Active Riders in the three months ended \\nDecember 31, 2021 as compared to the three months ended September 30, 2021 was due primarilyto the increasing COVID-19 case counts \\nfrom COVID-19 variants and their impact on demand as well as the seasonality we typically experience in the winter months.Revenue per Active Rider increased in each of the three months period\\ns ended March 31, June 30, September 30, and December 31, 2021 as compared to the sameperiods\\n in  2020,  primarily  reflecting  the  improvement  in  demand  on  our  platform  compared  to  earlier  periods  during  the  COVID-19  pandemic,  which  had  materiallylimited\\n people's mobility and severely reduced Active Riders. Revenue per Active Rider reached an all-time high in the three months ended December 31, 2021, increasingcompared\\n to the three months ended September 30, 2021. This was driven by an increase in ride frequency as well as a shift toward higher revenue rides such as airportrides,\\n reflecting the increased travel experienced in the fourth quarter in 2021 nationwide. Revenue per Active Rider also benefited from revenues from licensing and dataaccess agreements, beg\\ninning in the second quarter of 2021.Critical Accounting Policies and Estimates\\nOur\\n consolidated  financial  statements  and  the  related  notes  thereto  included  elsewhere  in  this  Annual  Report  on  Form  10-K  are  prepared  in  accordance  withGAAP.\", start_char_idx=0, end_char_idx=3934, text_template='{metadata_str}\\n\\n{content}', metadata_template='{key}: {value}', metadata_seperator='\\n'), score=0.8891202211380005)],\n",
      "         metadata={   '048978ac-93bd-4124-ad9e-d68680a5e37e': {   'creation_date': '2024-01-23',\n",
      "                                                                  'file_name': 'lyft_2021.pdf',\n",
      "                                                                  'file_path': 'data/10k/lyft_2021.pdf',\n",
      "                                                                  'file_size': 1440303,\n",
      "                                                                  'file_type': 'application/pdf',\n",
      "                                                                  'last_accessed_date': '2024-01-23',\n",
      "                                                                  'last_modified_date': '2024-01-23',\n",
      "                                                                  'page_label': '79'},\n",
      "                      '49aa8890-31cb-4083-a333-c01c086d9d6c': {   'creation_date': '2024-01-23',\n",
      "                                                                  'file_name': 'lyft_2021.pdf',\n",
      "                                                                  'file_path': 'data/10k/lyft_2021.pdf',\n",
      "                                                                  'file_size': 1440303,\n",
      "                                                                  'file_type': 'application/pdf',\n",
      "                                                                  'last_accessed_date': '2024-01-23',\n",
      "                                                                  'last_modified_date': '2024-01-23',\n",
      "                                                                  'page_label': '58'}})\n"
     ]
    }
   ],
   "source": [
    "response = index.as_query_engine().query(\"How much money Lyft made in 2020?\")\n",
    "print (response)\n",
    "print()\n",
    "pprint(response, indent=4)"
   ]
  },
  {
   "cell_type": "code",
   "execution_count": 22,
   "metadata": {},
   "outputs": [
    {
     "name": "stdout",
     "output_type": "stream",
     "text": [
      "I'm sorry, but I cannot provide the answer to your query.\n",
      "\n",
      "Response(response=\"I'm sorry, but I cannot provide the answer to your query.\",\n",
      "         source_nodes=[   NodeWithScore(node=TextNode(id_='048978ac-93bd-4124-ad9e-d68680a5e37e', embedding=None, metadata={'page_label': '79', 'file_name': 'lyft_2021.pdf', 'file_path': 'data/10k/lyft_2021.pdf', 'file_type': 'application/pdf', 'file_size': 1440303, 'creation_date': '2024-01-23', 'last_modified_date': '2024-01-23', 'last_accessed_date': '2024-01-23'}, excluded_embed_metadata_keys=['file_name', 'file_type', 'file_size', 'creation_date', 'last_modified_date', 'last_accessed_date'], excluded_llm_metadata_keys=['file_name', 'file_type', 'file_size', 'creation_date', 'last_modified_date', 'last_accessed_date'], relationships={<NodeRelationship.SOURCE: '1'>: RelatedNodeInfo(node_id='46754c39-d2dd-43b1-9403-c3ff18aebecc', node_type=<ObjectType.DOCUMENT: '4'>, metadata={'page_label': '79', 'file_name': 'lyft_2021.pdf', 'file_path': 'data/10k/lyft_2021.pdf', 'file_type': 'application/pdf', 'file_size': 1440303, 'creation_date': '2024-01-23', 'last_modified_date': '2024-01-23', 'last_accessed_date': '2024-01-23'}, hash='9d6adb5f6c435e1d13bf4963858fc46e143f758e14ffbedf3cb9a4ce3808591a'), <NodeRelationship.PREVIOUS: '2'>: RelatedNodeInfo(node_id='7893c0ca-ada8-4bad-ab16-21f3d3d144db', node_type=<ObjectType.TEXT: '1'>, metadata={'page_label': '78', 'file_name': 'lyft_2021.pdf', 'file_path': 'data/10k/lyft_2021.pdf', 'file_type': 'application/pdf', 'file_size': 1440303, 'creation_date': '2024-01-23', 'last_modified_date': '2024-01-23', 'last_accessed_date': '2024-01-23'}, hash='0a29be3120ecf78c0cd8bd04a1934fa6281d41dba4b6e08f26ba6abba9e0269e'), <NodeRelationship.NEXT: '3'>: RelatedNodeInfo(node_id='7bff4e2f-e990-42a2-9ba5-e274f0491236', node_type=<ObjectType.TEXT: '1'>, metadata={}, hash='8949c39ee85f566ef2203d53cc8e9708d1f4650ef0b85f9b0e1588938150f3ab')}, hash='830a510368ca3e673147b3e42460c34594f50473ff8b36c4b56cab478bedc01f', text='Lyft, Inc.Consolidated Statements of Operations\\n(in thousands, except for per share data\\n) Year Ended December 31,\\n2021\\n2020 2019 Revenue\\n$ 3,208,323 $ 2,364,681 $ 3,615,960 Costs and expenses\\nCost of revenue\\n1,649,532 1,447,516 2,176,469 Operations and support\\n402,233 453,963 636,116 Research and development\\n911,946 909,126 1,505,640 Sales and marketing\\n411,406 416,331 814,122 General and administrative\\n915,638 946,127 1,186,093 Total costs and expenses\\n4,290,755 4,173,063 6,318,440 Loss from operations\\n(1,082,432) (1,808,382) (2,702,480) Interest expense\\n(51,635) (32,678) — Other income, net\\n135,933 43,669 102,595 Loss before income taxes\\n(998,134) (1,797,391) (2,599,885) Provision for (benefit fro\\nm) income taxes11,225 (44,534) 2,356 Net loss\\n$ (1,009,359) $ (1,752,857) $ (2,602,241) Net loss per share, basic and di\\nluted$ (3.02) $ (5.61) $ (11.44) Weighted-average numb\\ner of shares outstanding used to compute net loss per share, basic and diluted334,724 312,175 227,498 Stock-based compensation included in costs and expenses:\\nCost of revenue\\n$ 39,491 $ 28,743 $ 81,321 Operations and support\\n24,083 15,829 75,212 Research and development\\n414,324 325,624 971,941 Sales and marketing\\n38,243 23,385 72,046 General and administrative\\n208,419 172,226 398,791 The accompanying notes are \\nan integral part of these consolidated financial statements.79', start_char_idx=0, end_char_idx=1363, text_template='{metadata_str}\\n\\n{content}', metadata_template='{key}: {value}', metadata_seperator='\\n'), score=0.8880009651184082),\n",
      "                          NodeWithScore(node=TextNode(id_='49aa8890-31cb-4083-a333-c01c086d9d6c', embedding=None, metadata={'page_label': '58', 'file_name': 'lyft_2021.pdf', 'file_path': 'data/10k/lyft_2021.pdf', 'file_type': 'application/pdf', 'file_size': 1440303, 'creation_date': '2024-01-23', 'last_modified_date': '2024-01-23', 'last_accessed_date': '2024-01-23'}, excluded_embed_metadata_keys=['file_name', 'file_type', 'file_size', 'creation_date', 'last_modified_date', 'last_accessed_date'], excluded_llm_metadata_keys=['file_name', 'file_type', 'file_size', 'creation_date', 'last_modified_date', 'last_accessed_date'], relationships={<NodeRelationship.SOURCE: '1'>: RelatedNodeInfo(node_id='5aacd5bf-fe12-4b0e-8ce4-4e6ad025ed34', node_type=<ObjectType.DOCUMENT: '4'>, metadata={'page_label': '58', 'file_name': 'lyft_2021.pdf', 'file_path': 'data/10k/lyft_2021.pdf', 'file_type': 'application/pdf', 'file_size': 1440303, 'creation_date': '2024-01-23', 'last_modified_date': '2024-01-23', 'last_accessed_date': '2024-01-23'}, hash='97fa858efbb5266f6abd33ca30a2ad9e29ce2636b054fabfce928f121944b7e8'), <NodeRelationship.PREVIOUS: '2'>: RelatedNodeInfo(node_id='71254a4c-f782-40eb-80e5-cc3dcf815eb4', node_type=<ObjectType.TEXT: '1'>, metadata={'page_label': '57', 'file_name': 'lyft_2021.pdf', 'file_path': 'data/10k/lyft_2021.pdf', 'file_type': 'application/pdf', 'file_size': 1440303, 'creation_date': '2024-01-23', 'last_modified_date': '2024-01-23', 'last_accessed_date': '2024-01-23'}, hash='dd00756ddd7c3e3495014a0bf546c99ccc630fc346a1d155a9b1f254c80e2be0'), <NodeRelationship.NEXT: '3'>: RelatedNodeInfo(node_id='50c1fb0e-e8eb-4b93-94e4-ca609fd1ed0e', node_type=<ObjectType.TEXT: '1'>, metadata={}, hash='5d039a8bdbb492ba8cdfaead89eccd791262e9ee34818fc07833fa938b408704')}, hash='3bfabf1e87d2ff8de3c5fe2b7c224e2368ae646c872dba59ae9e4e2747a00ebf', text=\"Revenue per Active Rider2021\\n2020 2019 2020 to 2021 %Change\\n2019 to 2020 %Change\\nThree Months Ended March 31\\n$45.13 $45.06 $37.86 0.2% 19.0% Three Months Ended June 30\\n$44.63 $39.06 $39.77 14.3% (1.8)% Three Months Ended September 30\\n$45.63 $39.94 $42.82 14.2% (6.7)% Three Months Ended December 31\\n$51.79 $45.40 $44.40 14.1% 2.3% We define Active Riders as \\nall riders who take at least one ride during a quarter where the Lyft Platform processes the transaction. An Active Rider is identified bya\\n unique phone number. If a rider has two mobile phone numbers or changed their phone number and such rider took rides using both phone numbers during the quarter,that person would count\\n as two Active Riders. If a rider has a personal and business profile tied to the same mobile phone number, that person would be considered a singleActive Rider. If a ride has been requested by an\\n organization using our Concierge offering for the benefit of a rider, we exclude this rider in the calculation of Active Ridersunless the ride is access\\nible in the Lyft App. Revenue per Active Rider is calculated by dividing revenue for a period by Active Riders for the same period.Beginning\\n in the fourth quarter of 2020, some riders were able to access their Concierge rides in the Lyft App if they already had a Lyft account. Accordingly,Lyft\\n updated the definition of Active Riders to include Concierge riders if the rider’s phone number matches that of a verified Lyft account, allowing the rider to accesstheir\\n ride in the Lyft App. This update resulted in a 0.01% increase, or an additional 927 Active Riders in the fourth quarter of 2020. Prior to the fourth quarter of 2020, allConcierge riders were exc\\nluded from the calculation of Active Riders as Concierge rides could not be matched with verified rider accounts.With\\n the exception of the three months ended March 31, 2021 as compared to the three months ended March 31, 2020, Active Riders in each of the three monthperiods\\n ended  June  30,  September  30,  and  December  31,  2021  increased  compared  to  the  same  period  in  2020  as  vaccines  were  more  widely  distributed  and  morecommunities\\n fully reopened. Active Riders in the three months periods ended June 30, September 30, and December 31, 2020 represented significantly lower Active Ridercounts\\n since shelter-in-place orders and other travel restrictions were first implemented across North America in response to the COVID-19 pandemic in March 2020. Theslight decrease in the number of Active Riders in the three months ended \\nDecember 31, 2021 as compared to the three months ended September 30, 2021 was due primarilyto the increasing COVID-19 case counts \\nfrom COVID-19 variants and their impact on demand as well as the seasonality we typically experience in the winter months.Revenue per Active Rider increased in each of the three months period\\ns ended March 31, June 30, September 30, and December 31, 2021 as compared to the sameperiods\\n in  2020,  primarily  reflecting  the  improvement  in  demand  on  our  platform  compared  to  earlier  periods  during  the  COVID-19  pandemic,  which  had  materiallylimited\\n people's mobility and severely reduced Active Riders. Revenue per Active Rider reached an all-time high in the three months ended December 31, 2021, increasingcompared\\n to the three months ended September 30, 2021. This was driven by an increase in ride frequency as well as a shift toward higher revenue rides such as airportrides,\\n reflecting the increased travel experienced in the fourth quarter in 2021 nationwide. Revenue per Active Rider also benefited from revenues from licensing and dataaccess agreements, beg\\ninning in the second quarter of 2021.Critical Accounting Policies and Estimates\\nOur\\n consolidated  financial  statements  and  the  related  notes  thereto  included  elsewhere  in  this  Annual  Report  on  Form  10-K  are  prepared  in  accordance  withGAAP.\", start_char_idx=0, end_char_idx=3934, text_template='{metadata_str}\\n\\n{content}', metadata_template='{key}: {value}', metadata_seperator='\\n'), score=0.8822716474533081)],\n",
      "         metadata={   '048978ac-93bd-4124-ad9e-d68680a5e37e': {   'creation_date': '2024-01-23',\n",
      "                                                                  'file_name': 'lyft_2021.pdf',\n",
      "                                                                  'file_path': 'data/10k/lyft_2021.pdf',\n",
      "                                                                  'file_size': 1440303,\n",
      "                                                                  'file_type': 'application/pdf',\n",
      "                                                                  'last_accessed_date': '2024-01-23',\n",
      "                                                                  'last_modified_date': '2024-01-23',\n",
      "                                                                  'page_label': '79'},\n",
      "                      '49aa8890-31cb-4083-a333-c01c086d9d6c': {   'creation_date': '2024-01-23',\n",
      "                                                                  'file_name': 'lyft_2021.pdf',\n",
      "                                                                  'file_path': 'data/10k/lyft_2021.pdf',\n",
      "                                                                  'file_size': 1440303,\n",
      "                                                                  'file_type': 'application/pdf',\n",
      "                                                                  'last_accessed_date': '2024-01-23',\n",
      "                                                                  'last_modified_date': '2024-01-23',\n",
      "                                                                  'page_label': '58'}})\n"
     ]
    }
   ],
   "source": [
    "## The answer to this question doesn't exist in the Lyft_10k filing!\n",
    "## Let's see what we get back\n",
    "response = index.as_query_engine().query(\"How much money Lyft made in 2018?\")\n",
    "print (response)\n",
    "print()\n",
    "pprint(response, indent=4)"
   ]
  },
  {
   "cell_type": "code",
   "execution_count": 21,
   "metadata": {},
   "outputs": [
    {
     "name": "stdout",
     "output_type": "stream",
     "text": [
      "Uber did its initial public offering (IPO) on May 14, 2019.\n",
      "\n",
      "Response(response='Uber did its initial public offering (IPO) on May 14, 2019.',\n",
      "         source_nodes=[   NodeWithScore(node=TextNode(id_='1d6c8987-0fab-476a-b72c-e8a289c6a680', embedding=None, metadata={'page_label': '119', 'file_name': 'uber_2021.pdf', 'file_path': 'data/10k/uber_2021.pdf', 'file_type': 'application/pdf', 'file_size': 1880483, 'creation_date': '2024-01-23', 'last_modified_date': '2024-01-23', 'last_accessed_date': '2024-01-23'}, excluded_embed_metadata_keys=['file_name', 'file_type', 'file_size', 'creation_date', 'last_modified_date', 'last_accessed_date'], excluded_llm_metadata_keys=['file_name', 'file_type', 'file_size', 'creation_date', 'last_modified_date', 'last_accessed_date'], relationships={<NodeRelationship.SOURCE: '1'>: RelatedNodeInfo(node_id='9c0d0fb2-9cea-48e5-a4f1-425340a34e1a', node_type=<ObjectType.DOCUMENT: '4'>, metadata={'page_label': '119', 'file_name': 'uber_2021.pdf', 'file_path': 'data/10k/uber_2021.pdf', 'file_type': 'application/pdf', 'file_size': 1880483, 'creation_date': '2024-01-23', 'last_modified_date': '2024-01-23', 'last_accessed_date': '2024-01-23'}, hash='a90c78a1041f8f037f9160e365a1d4aac5b5e082ca45d54be946410a536ef896'), <NodeRelationship.PREVIOUS: '2'>: RelatedNodeInfo(node_id='18f94331-610a-46f4-bee1-5c302af59661', node_type=<ObjectType.TEXT: '1'>, metadata={'page_label': '118', 'file_name': 'uber_2021.pdf', 'file_path': 'data/10k/uber_2021.pdf', 'file_type': 'application/pdf', 'file_size': 1880483, 'creation_date': '2024-01-23', 'last_modified_date': '2024-01-23', 'last_accessed_date': '2024-01-23'}, hash='7f48c0603866bfb9b0cbf345620caa972ff7e62b18fb66438b8d20b4ad15fac5'), <NodeRelationship.NEXT: '3'>: RelatedNodeInfo(node_id='216fd1ba-a941-42be-9a18-9bd4776baff9', node_type=<ObjectType.TEXT: '1'>, metadata={}, hash='c0eb60fc678612f883149c9effb1bd9d21228259e6d93bffc0824cea289c8270')}, hash='e986d5e2d6e9176f5a1d4cb687a4a4c0813a46db35f21ca9d658e89416ff0cec', text=\"Note 11 – Stockholders' EquityInitial Public Offering\\nOn\\n May 14, 2019, we closed our IPO, in which we issued and sold 180 million shares of our common stock. The price was $45.00 per share. We received netproceeds of\\n approximately $8.0 billion from the IPO after deducting underwriting discounts and commissions of $106 million and offering expenses. Upon closingof\\n the IPO: (i) all shares of our outstanding redeemable convertible preferred stock automatically converted into 905 million shares of common stock; (ii) holdersof\\n the 2021 and 2022 Convertible Notes elected to convert all outstanding notes into 94 million shares of common stock; and, (iii) an outstanding warrant whichbecame\\n exercisable upon the closing of the IPO was exercised to purchase 0.2 million shares of common stock. In addition, we recognized a net gain of $327million\\n in other income (expense), net in the consolidated statement of operations upon conversion of the 2021 and 2022 Convertible Notes during the secondquarter\\n of  2019,  which  consisted  of  $444  million  gain  on  extinguishment  of  debt  and  settlement  of  derivatives,  partially  offset  by  $117  million  loss  from  thechange in\\n fair value of embedded derivatives prior to settlement. The extinguishment of debt resulted in the derecognition of the carrying value of the debt balanceand settlement of emb\\nedded derivatives.We\\n had granted RSAs, RSUs, SARs, and stock options that vest only upon the satisfaction of both time-based service and performance-based conditions.Through\\n May 9, 2019, no stock-based compensation expense had been recognized for such awards with a performance condition based on the occurrence of aqualifying\\n event (such as an IPO), as such qualifying event was not probable. Upon our IPO, we recognized $3.6 billion of stock-based compensation expense.Upon\\n the IPO, shares were issued to satisfy the vesting of RSUs with a performance condition. To meet the related tax withholding requirements, we withheld 29million\\n of the 76 million shares of common stock issued. Based on the IPO public offering price of $45.00 per share, the tax withholding obligation was $1.3billion.\\nAs\\n a  result  of  stock-based  compensation  expense  for  vested  and  unvested  RSUs  upon  the  IPO,  we  recorded  an  additional  deferred  tax  assetof approximately $1.1 bill\\nion that was offset by a full valuation allowance.PayPal, Inc. (“PayPal”) Private Plac\\nementOn\\n May 16, 2019, we closed a private placement by PayPal, Inc. in which we issued and sold 11 million shares of our common stock at a purchase price of$45.00 per share and received \\naggregate proceeds of $500 million.Redeemable Convertible Preferr\\ned StockUpon\\n closing of the IPO, all shares of our outstanding redeemable convertible preferred stock automatically converted into 905 million shares of commonstock.\\nDuring\\n 2019, the warrant to purchase 922,655 Series G redeemable convertible preferred stock was exercised in full and the fair value of the warrant wasreclassified\\n to redeemable convertible preferred stock. Also during 2019, the warrant to purchase 150,071 Series E redeemable convertible preferred stock wasexercised. As a\\n result of the IPO, both the Series G and Series E warrants automatically converted to shares of common stock. For additional information related toour IPO, refer to section above \\ntitled “Initial Public Offering.”Preferred Stock\\nAfter\\n conversion of the above mentioned redeemable convertible preferred stock into common stock upon closing of our IPO, our board of directors wasgranted\\n the authority to issue up to 10 million shares of preferred stock and to determine the price, rights, preferences, privileges and restrictions, including votingrights,\\n of  those  shares  without  any  further  vote  or  action  by  the  stockholders.  As  of  December  31,  2020  and  2021,  there  was  no  preferred  stock  issued  andoutstanding.\\nCommon Stock\\nAs of December 31, 2021, we have the authority to\\n issue 5.0 billion shares of common stock with a par value of $0.00001 per share. Holders of common stockare\\n entitled to dividends when and if declared by the board of directors, subject to the rights of the holders of all classes of stock outstanding having priority rightsto dividends.\", start_char_idx=0, end_char_idx=4275, text_template='{metadata_str}\\n\\n{content}', metadata_template='{key}: {value}', metadata_seperator='\\n'), score=0.8566514253616333),\n",
      "                          NodeWithScore(node=TextNode(id_='7625c91f-3c33-4fa1-8774-e9db18ac1f72', embedding=None, metadata={'page_label': '84', 'file_name': 'uber_2021.pdf', 'file_path': 'data/10k/uber_2021.pdf', 'file_type': 'application/pdf', 'file_size': 1880483, 'creation_date': '2024-01-23', 'last_modified_date': '2024-01-23', 'last_accessed_date': '2024-01-23'}, excluded_embed_metadata_keys=['file_name', 'file_type', 'file_size', 'creation_date', 'last_modified_date', 'last_accessed_date'], excluded_llm_metadata_keys=['file_name', 'file_type', 'file_size', 'creation_date', 'last_modified_date', 'last_accessed_date'], relationships={<NodeRelationship.SOURCE: '1'>: RelatedNodeInfo(node_id='649badc9-341a-4560-bd86-d551b2860ed6', node_type=<ObjectType.DOCUMENT: '4'>, metadata={'page_label': '84', 'file_name': 'uber_2021.pdf', 'file_path': 'data/10k/uber_2021.pdf', 'file_type': 'application/pdf', 'file_size': 1880483, 'creation_date': '2024-01-23', 'last_modified_date': '2024-01-23', 'last_accessed_date': '2024-01-23'}, hash='d73fc8e4cf4549c2d15ba9b3dffe148bce38132faf08c02b838a04d16a5a39a0'), <NodeRelationship.PREVIOUS: '2'>: RelatedNodeInfo(node_id='e9c7c0f0-040c-4f80-b606-45ad1238371d', node_type=<ObjectType.TEXT: '1'>, metadata={'page_label': '83', 'file_name': 'uber_2021.pdf', 'file_path': 'data/10k/uber_2021.pdf', 'file_type': 'application/pdf', 'file_size': 1880483, 'creation_date': '2024-01-23', 'last_modified_date': '2024-01-23', 'last_accessed_date': '2024-01-23'}, hash='a675f9058febe3d50dca7313a4701a97de9d98164c4ccf8e6b04598a1ccdafed'), <NodeRelationship.NEXT: '3'>: RelatedNodeInfo(node_id='89bab856-767b-411e-8e7f-deece5260628', node_type=<ObjectType.TEXT: '1'>, metadata={}, hash='e5a74847da21dc542e9a76da31b6a00e3908e2b8282ad8dfa568cc01eb705434')}, hash='efc3111303fd6e724d344d5b96110d60e39610c3828c05ba3c43d816311ac68e', text=\"UBER TECHNOLOGIES, INC.NOTES TO CONSOLIDATED \\nFINANCIAL STATEMENTSNote 1 – Description of Business and Summary of Significant Accounting Policies\\nDescription of Business\\nUber\\n Technologies, Inc. (“Uber,” “we,” “our,” or “us”) was incorporated in Delaware in July 2010, and is headquartered in San Francisco, California. Uber isa\\n technology platform that uses a massive network, leading technology, operational excellence and product expertise to power movement from point A to point B.Uber\\n develops and operates proprietary technology applications supporting a variety of offerings on its platform (“platform(s)” or “Platform(s)”). Uber connectsconsumers\\n (“Rider(s)”)  with  independent  providers  of  ride  services  (“Mobility  Driver(s)”)  for  ridesharing  services,  and  connects  Riders  and  other  consumers(“Eaters”)\\n with restaurants, grocers and other stores (collectively,  “Merchants”) with delivery service providers (“Couriers”) for meal preparation, grocery andother\\n delivery services. Riders and Eaters are collectively referred to as “end-user(s)” or “consumer(s).” Mobility Drivers and Couriers are collectively referred toas\\n “Driver(s).” Uber also connects consumers with public transportation networks. Uber uses this same network, technology, operational excellence and productexpertise to connect shipp\\ners with carriers in the freight industry. Uber is also developing technologies that will provide new solutions to solve everyday problems.Our\\n technology is used around the world, principally in the United States (“U.S.”) and Canada, Latin America, Europe, the Middle East, Africa, and Asia(excluding China and Southeast Asia).\\nBasis of Presentation\\nThe\\n accompanying consolidated financial statements have been prepared in accordance with generally accepted accounting principles in the United States(“GAAP”).\\n We consolidate our wholly-owned subsidiaries and majority-owned subsidiaries over which we exercise control, and variable interest entities (“VIE”)where\\n we  are  deemed  to  be  the  primary  beneficiary.  Refer  to  Note  16  –  Variable  Interest  Entities  for  further  information.  All  intercompany  balances  andtransactions have been e\\nliminated.Use of Estimates\\nThe preparation\\n of our consolidated financial statements in conformity with GAAP requires management to make estimates and assumptions, which affect thereported amounts in the financial statements and accompanying notes. Estimates are based on historical experience, where applicable, an\\nd other assumptions whichmanagement\\n believes are reasonable under the circumstances. On an ongoing basis, management evaluates estimates, including, but not limited to: fair values ofinvestments\\n and other financial instruments (including the measurement of credit or impairment losses); useful lives of amortizable long-lived assets; fair value ofacquired\\n intangible assets and related impairment assessments; impairment of goodwill; stock-based compensation; income taxes and non-income tax reserves;certain\\n deferred tax assets and tax liabilities; insurance reserves; and other contingent liabilities. These estimates are inherently subject to judgment and actualresults could\\n differ from those estimates. We considered the impacts of the COVID-19 pandemic on the assumptions and inputs (including market data) supportingcertain\\n of  these  estimates,  assumptions  and  judgments,  in  particular,  our  impairment  assessment  related  to  the  determination  of  the  fair  values  of  certaininvestments\\n and equity method investments as well as goodwill and the recoverability of long-lived assets. The level of uncertainties and volatility in the globalfinancial\\n markets and economies resulting from the pandemic as well as the uncertainties related to the impact of the pandemic on us and our investees' operationsand financial perfor\\nmance means that these estimates may change in future periods, as new events occur and additional information is obtained.Concentration of Credit Risk\\nCash\\n and cash equivalents, short-term investments, restricted cash and cash equivalents, other receivables, and accounts receivable are potentially subject tocredit\\n risk concentration. Cash, cash equivalents, and available-for-sale securities primarily consist of money market funds, cash deposits, U.S. government andagency\\n securities, and investment-grade corporate debt securities. Our investment policy limits the amount of credit exposure with any one financial institution orcommercial\\n issuer. Cash deposits typically exceed insured limits and are placed with financial institutions around the world that we believe are of high creditquality.\\n We have not experienced any material losses related to these concentrations during the periods presented. Our other receivables primarily consist of fundswithheld\\n by well-established insurance companies with high credit quality that may be used to cover future settlement of reserved insurance claims.\", start_char_idx=0, end_char_idx=4965, text_template='{metadata_str}\\n\\n{content}', metadata_template='{key}: {value}', metadata_seperator='\\n'), score=0.8548495769500732)],\n",
      "         metadata={   '1d6c8987-0fab-476a-b72c-e8a289c6a680': {   'creation_date': '2024-01-23',\n",
      "                                                                  'file_name': 'uber_2021.pdf',\n",
      "                                                                  'file_path': 'data/10k/uber_2021.pdf',\n",
      "                                                                  'file_size': 1880483,\n",
      "                                                                  'file_type': 'application/pdf',\n",
      "                                                                  'last_accessed_date': '2024-01-23',\n",
      "                                                                  'last_modified_date': '2024-01-23',\n",
      "                                                                  'page_label': '119'},\n",
      "                      '7625c91f-3c33-4fa1-8774-e9db18ac1f72': {   'creation_date': '2024-01-23',\n",
      "                                                                  'file_name': 'uber_2021.pdf',\n",
      "                                                                  'file_path': 'data/10k/uber_2021.pdf',\n",
      "                                                                  'file_size': 1880483,\n",
      "                                                                  'file_type': 'application/pdf',\n",
      "                                                                  'last_accessed_date': '2024-01-23',\n",
      "                                                                  'last_modified_date': '2024-01-23',\n",
      "                                                                  'page_label': '84'}})\n"
     ]
    }
   ],
   "source": [
    "response = index.as_query_engine().query(\"When did Uber do IPO?\")\n",
    "print (response)\n",
    "print()\n",
    "pprint(response, indent=4)"
   ]
  },
  {
   "cell_type": "code",
   "execution_count": null,
   "metadata": {},
   "outputs": [],
   "source": []
  }
 ],
 "metadata": {
  "kernelspec": {
   "display_name": "atlas-2",
   "language": "python",
   "name": "python3"
  },
  "language_info": {
   "codemirror_mode": {
    "name": "ipython",
    "version": 3
   },
   "file_extension": ".py",
   "mimetype": "text/x-python",
   "name": "python",
   "nbconvert_exporter": "python",
   "pygments_lexer": "ipython3",
   "version": "3.11.7"
  }
 },
 "nbformat": 4,
 "nbformat_minor": 2
}

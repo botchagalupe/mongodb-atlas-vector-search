{
 "cells": [
  {
   "cell_type": "markdown",
   "metadata": {},
   "source": [
    "# Query MongoDB Atlas Using Custom Embeddings\n",
    "\n",
    "In the previous lab [custom-embeddings-1-populate.ipynb](custom-embeddings-1-populate.ipynb) we have populated movie collection in Atlas with our own custom embeddings. Now let's query them!\n",
    "\n",
    "If you haven't completed the previos lab, please go ahead and complete it"
   ]
  },
  {
   "cell_type": "markdown",
   "metadata": {},
   "source": [
    "## Load Settings"
   ]
  },
  {
   "cell_type": "code",
   "execution_count": 1,
   "metadata": {},
   "outputs": [],
   "source": [
    "import os,sys\n",
    "## Load Settings from .env file\n",
    "from dotenv import find_dotenv, dotenv_values\n",
    "\n",
    "# _ = load_dotenv(find_dotenv()) # read local .env file\n",
    "config = dotenv_values(find_dotenv())\n",
    "\n",
    "# debug\n",
    "# print (config)\n",
    "\n",
    "ATLAS_URI = config.get('ATLAS_URI')\n",
    "\n",
    "if not ATLAS_URI:\n",
    "    raise Exception (\"'ATLAS_URI' is not set.  Please set it above to continue...\")"
   ]
  },
  {
   "cell_type": "code",
   "execution_count": 2,
   "metadata": {},
   "outputs": [],
   "source": [
    "# Our variables\n",
    "\n",
    "DB_NAME = 'sample_mflix'\n",
    "COLLECTION_NAME = 'embedded_movies'"
   ]
  },
  {
   "cell_type": "markdown",
   "metadata": {},
   "source": [
    "## Initialize Mongo Atlas Client"
   ]
  },
  {
   "cell_type": "code",
   "execution_count": 3,
   "metadata": {},
   "outputs": [
    {
     "name": "stdout",
     "output_type": "stream",
     "text": [
      "Connected to the Mongo Atlas database!\n"
     ]
    }
   ],
   "source": [
    "from AtlasClient import AtlasClient\n",
    "\n",
    "atlas_client = AtlasClient (ATLAS_URI, DB_NAME)\n",
    "print(\"Connected to the Mongo Atlas database!\")"
   ]
  },
  {
   "cell_type": "code",
   "execution_count": 4,
   "metadata": {},
   "outputs": [],
   "source": [
    "model_mappings = {\n",
    "    'BAAI/bge-small-en-v1.5' : {'embedding_attr' : 'plot_embedding_bge_small', 'index_name' : 'idx_plot_embedding_bge_small'},\n",
    "\n",
    "    'sentence-transformers/all-mpnet-base-v2' : {'embedding_attr' : 'plot_embedding_mpnet_base_v2', 'index_name' : 'idx_plot_embedding_mpnet_base_v2'},\n",
    "\n",
    "    # 'sentence-transformers/all-MiniLM-L12-v2' : {'embedding_attr' : 'plot_embedding_minilm_l12_v2', 'index_name' : 'idx_plot_embedding_minilm_l12_v2'},\n",
    "\n",
    "    'sentence-transformers/all-MiniLM-L6-v2' : {'embedding_attr' : 'plot_embedding_minilm_l6_v2', 'index_name' : 'idx_plot_embedding_minilm_l6_v2'},\n",
    "\n",
    "    ## bge-large takes too long and consumes too much memory!\n",
    "    # 'BAAI/bge-large-en-v1.5' : {'embedding_attr' : 'plot_embedding_bge_large', 'index_name' : 'idx_plot_embedding_bge_large', 'embedding_length' : 1024},\n",
    "}"
   ]
  },
  {
   "cell_type": "markdown",
   "metadata": {},
   "source": [
    "## Time to Query!\n",
    "\n",
    "Now that we have updated the collection, let's try some queries"
   ]
  },
  {
   "cell_type": "code",
   "execution_count": 8,
   "metadata": {},
   "outputs": [],
   "source": [
    "\n",
    "import os\n",
    "## LlamaIndex will download embeddings models as needed.\n",
    "## Set llamaindex cache dir to ./cache dir here (Default is system tmp)\n",
    "## This way, we can easily see downloaded artifacts\n",
    "os.environ['LLAMA_INDEX_CACHE_DIR'] = os.path.join(os.path.abspath(''), 'cache')\n",
    "\n",
    "from llama_index.embeddings import HuggingFaceEmbedding\n",
    "import time\n",
    "\n",
    "\n",
    "# this is a handy function to run a query given a model\n",
    "def run_vector_query (query : str, model_name : str):\n",
    "    model_mapping = model_mappings.get(model_name)\n",
    "    if model_mapping is None:\n",
    "        raise Exception (\"Unknown model : \" + model_name)\n",
    "    embedding_attr = model_mapping['embedding_attr']\n",
    "    index_name = model_mapping ['index_name']\n",
    "\n",
    "    # generate embeddings\n",
    "    embed_model = HuggingFaceEmbedding(model_name=model_name)\n",
    "    query_embeddings = embed_model.get_text_embedding(query)\n",
    "\n",
    "    # now let's query Atlas\n",
    "    t1a = time.perf_counter()\n",
    "    movies = atlas_client.vector_search (collection_name=COLLECTION_NAME, index_name=index_name, attr_name=embedding_attr, embedding_vector=query_embeddings, limit=5)\n",
    "    t1b = time.perf_counter()\n",
    "    print (f'Atlas query returned in {(t1b-t1a)*1000} ms')\n",
    "    return movies\n"
   ]
  },
  {
   "cell_type": "code",
   "execution_count": 10,
   "metadata": {},
   "outputs": [],
   "source": [
    "def print_movies(movies):\n",
    "    print (f\"Found {len (movies)} movies\")\n",
    "    for idx, movie in enumerate (movies):\n",
    "        print(f'{idx+1}\\nid: {movie[\"_id\"]}\\ntitle: {movie[\"title\"]},\\nyear: {movie[\"year\"]}' +\n",
    "            f'\\nsearch_score(meta):{movie[\"search_score\"]}\\nplot: {movie[\"plot\"]}\\n')"
   ]
  },
  {
   "cell_type": "code",
   "execution_count": 11,
   "metadata": {},
   "outputs": [
    {
     "name": "stdout",
     "output_type": "stream",
     "text": [
      "Atlas query returned in 89.97482794802636 ms\n",
      "========== model = BAAI/bge-small-en-v1.5 ======\n",
      "Found 5 movies\n",
      "1\n",
      "id: 573a1397f29313caabce61a5\n",
      "title: Logan's Run,\n",
      "year: 1976\n",
      "search_score(meta):0.5782829523086548\n",
      "plot: An idyllic sci-fi future has one major drawback: life must end at 30.\n",
      "\n",
      "2\n",
      "id: 573a13bff29313caabd5de30\n",
      "title: Journey to Saturn,\n",
      "year: 2008\n",
      "search_score(meta):0.5679123997688293\n",
      "plot: A danish crew of misfits travel to Saturn in search for natural resources. However, the planet is colonized by a ruthless army of Aliens that turn their eye on Earth and invade Denmark. ...\n",
      "\n",
      "3\n",
      "id: 573a13a6f29313caabd1898d\n",
      "title: Forklift Driver Klaus: The First Day on the Job,\n",
      "year: 2000\n",
      "search_score(meta):0.5652276277542114\n",
      "plot: Short film depicting a fictional educational film about fork lift truck operational safety. The dangers of unsafe operation are presented in gory details.\n",
      "\n",
      "4\n",
      "id: 573a13a8f29313caabd1ccea\n",
      "title: Forklift Driver Klaus: The First Day on the Job,\n",
      "year: 2000\n",
      "search_score(meta):0.5652276277542114\n",
      "plot: Short film depicting a fictional educational film about fork lift truck operational safety. The dangers of unsafe operation are presented in gory details.\n",
      "\n",
      "5\n",
      "id: 573a13e9f29313caabdcc71f\n",
      "title: Uzumasa Limelight,\n",
      "year: 2014\n",
      "search_score(meta):0.5639979243278503\n",
      "plot: The film centers an aged movie extra who specializes to be killed in samurai movies without ever being lit by the limelight. Using Charlie Chaplin's film Limelight as an underlying theme, ...\n",
      "\n"
     ]
    }
   ],
   "source": [
    "\n",
    "query = 'fatalistic sci-fi movies'\n",
    "model_name = 'BAAI/bge-small-en-v1.5'\n",
    "\n",
    "movies = run_vector_query (query=query, model_name=model_name)\n",
    "\n",
    "print (f'========== model = {model_name} ======')\n",
    "print_movies (movies)\n"
   ]
  },
  {
   "cell_type": "code",
   "execution_count": 12,
   "metadata": {},
   "outputs": [
    {
     "name": "stdout",
     "output_type": "stream",
     "text": [
      "Atlas query returned in 94.12906400393695 ms\n",
      "========== model = sentence-transformers/all-mpnet-base-v2 ======\n",
      "Found 5 movies\n",
      "1\n",
      "id: 573a13b5f29313caabd4473e\n",
      "title: Wristcutters: A Love Story,\n",
      "year: 2006\n",
      "search_score(meta):0.48351454734802246\n",
      "plot: A film set in a strange afterlife way station that has been reserved for people who have committed suicide.\n",
      "\n",
      "2\n",
      "id: 573a139af29313caabcf0aff\n",
      "title: Meet Joe Black,\n",
      "year: 1998\n",
      "search_score(meta):0.4695141315460205\n",
      "plot: Death, who takes the form of a young man, asks a media mogul to act as a guide to teach him about life on Earth and in the process he falls in love with his guide's daughter.\n",
      "\n",
      "3\n",
      "id: 573a13aff29313caabd321a1\n",
      "title: DOA: Dead or Alive,\n",
      "year: 2006\n",
      "search_score(meta):0.46454548835754395\n",
      "plot: The movie adaptation of the best selling video game series Dead or Alive.\n",
      "\n",
      "4\n",
      "id: 573a13bff29313caabd5fdf0\n",
      "title: Blood River,\n",
      "year: 2009\n",
      "search_score(meta):0.45820650458335876\n",
      "plot: A psychological thriller, which explores the destruction of a young couple's seemingly perfect marriage.\n",
      "\n",
      "5\n",
      "id: 573a1397f29313caabce739c\n",
      "title: Moonraker,\n",
      "year: 1979\n",
      "search_score(meta):0.45668989419937134\n",
      "plot: James Bond investigates the mid-air theft of a space shuttle and discovers a plot to commit global genocide.\n",
      "\n"
     ]
    }
   ],
   "source": [
    "\n",
    "query = 'fatalistic sci-fi movies'\n",
    "model_name = 'sentence-transformers/all-mpnet-base-v2'\n",
    "\n",
    "movies = run_vector_query (query=query, model_name=model_name)\n",
    "\n",
    "print (f'========== model = {model_name} ======')\n",
    "print_movies (movies)\n"
   ]
  },
  {
   "cell_type": "code",
   "execution_count": null,
   "metadata": {},
   "outputs": [],
   "source": []
  }
 ],
 "metadata": {
  "kernelspec": {
   "display_name": "atlas-2",
   "language": "python",
   "name": "python3"
  },
  "language_info": {
   "codemirror_mode": {
    "name": "ipython",
    "version": 3
   },
   "file_extension": ".py",
   "mimetype": "text/x-python",
   "name": "python",
   "nbconvert_exporter": "python",
   "pygments_lexer": "ipython3",
   "version": "3.11.7"
  }
 },
 "nbformat": 4,
 "nbformat_minor": 2
}

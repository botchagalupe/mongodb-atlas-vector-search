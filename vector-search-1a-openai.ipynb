{
 "cells": [
  {
   "cell_type": "markdown",
   "metadata": {},
   "source": [
    "# Lab: Vector Search on Mongo Atlas Using OpenAI Embeddings\n",
    "\n",
    "In this lab we will do a vector search on [MongoDB Atlas](https://www.mongodb.com/atlas).  We will use OpenAI Embedding API to generate embeddings.\n",
    "\n",
    "We need the following:\n",
    "- Atlas cloud account\n",
    "- OpenAI API key\n",
    "\n",
    "References\n",
    "\n",
    "- https://cookbook.openai.com/examples/vector_databases/mongodb_atlas/semantic_search_using_mongodb_atlas_vector_search"
   ]
  },
  {
   "cell_type": "markdown",
   "metadata": {},
   "source": [
    "## Step-1: Setup `.env` file\n",
    "\n",
    "Create an `.env` file with the following content:\n",
    "\n",
    "Replace `ATLAS_URI` and `OPENAI_APIKEY` with your own\n",
    "\n",
    "\n",
    "```text\n",
    "ATLAS_URI=mongodb+srv://<username>:<password>@sandbox.lqlql.mongodb.net/?retryWrites=true&w=majority\n",
    "OPENAI_API_KEY=replace-me\n",
    "```"
   ]
  },
  {
   "cell_type": "markdown",
   "metadata": {},
   "source": [
    "## Step-2: Load Settings"
   ]
  },
  {
   "cell_type": "code",
   "execution_count": 1,
   "metadata": {},
   "outputs": [],
   "source": [
    "## Load Settings from .env file\n",
    "from dotenv import find_dotenv, dotenv_values\n",
    "\n",
    "# _ = load_dotenv(find_dotenv()) # read local .env file\n",
    "config = dotenv_values(find_dotenv())\n",
    "\n",
    "# debug\n",
    "# print (config)\n",
    "\n",
    "ATLAS_URI = config.get('ATLAS_URI')\n",
    "OPENAI_API_KEY = config.get(\"OPENAI_API_KEY\")\n",
    "\n",
    "if not ATLAS_URI:\n",
    "    raise Exception (\"'ATLAS_URI' is not set.  Please set it above to continue...\")\n",
    "\n",
    "if not OPENAI_API_KEY:\n",
    "    raise Exception (\"'OPENAI_API_KEY' is not set.  Please set it above to continue...\")"
   ]
  },
  {
   "cell_type": "markdown",
   "metadata": {},
   "source": [
    "## Step-3: Inspect these Python Classes\n",
    "\n",
    "- [AtlasClient.py](AtlasClient.py) - a handy class to interact with Atlas\n",
    "- [OpenAIClient.py](OpenAIClient.py) - a handy class to intereact with openAI"
   ]
  },
  {
   "cell_type": "code",
   "execution_count": 2,
   "metadata": {},
   "outputs": [],
   "source": [
    "# Our variables\n",
    "\n",
    "DB_NAME = 'sample_mflix'\n",
    "COLLECTION_NAME = 'embedded_movies'\n",
    "INDEX_NAME = 'idx_plot_embedding'"
   ]
  },
  {
   "cell_type": "markdown",
   "metadata": {},
   "source": [
    "## Step-4: Initialize Mongo Atlas Client"
   ]
  },
  {
   "cell_type": "code",
   "execution_count": 3,
   "metadata": {},
   "outputs": [
    {
     "name": "stdout",
     "output_type": "stream",
     "text": [
      "Connected to the Mongo Atlas database!\n"
     ]
    }
   ],
   "source": [
    "from AtlasClient import AtlasClient\n",
    "\n",
    "atlas_client = AtlasClient (ATLAS_URI, DB_NAME)\n",
    "print(\"Connected to the Mongo Atlas database!\")"
   ]
  },
  {
   "cell_type": "markdown",
   "metadata": {},
   "source": [
    "## Step-5: Initialize OpenAI Client"
   ]
  },
  {
   "cell_type": "code",
   "execution_count": 4,
   "metadata": {},
   "outputs": [
    {
     "name": "stdout",
     "output_type": "stream",
     "text": [
      "OpenAI client initialized\n"
     ]
    }
   ],
   "source": [
    "from OpenAIClient import OpenAIClient\n",
    "\n",
    "openAI_client = OpenAIClient (api_key=OPENAI_API_KEY)\n",
    "print (\"OpenAI client initialized\")"
   ]
  },
  {
   "cell_type": "markdown",
   "metadata": {},
   "source": [
    "## Step-6: Create an Alas Index\n",
    "\n",
    "Follow [this guide](setup-atlas-index.md) here to create an index.\n",
    "\n",
    "**Note: Do not skip this step, we need an active index to perform vector search**"
   ]
  },
  {
   "cell_type": "markdown",
   "metadata": {},
   "source": [
    "## Step-7: Do a Vector Search\n",
    "\n",
    "Now that we have every thing setup, this is the fun part!\n",
    "\n",
    "We are going to query movies, not just on plot keywords but 'meaning'.\n",
    "\n",
    "See the examples below.  And try your own!\n",
    "\n",
    "The process is as follows:\n",
    "\n",
    "- convert query into embeddings (using OpenAI API)\n",
    "- send the embeddings to Atlas and get results\n",
    "\n",
    "### Note the Score\n",
    "\n",
    "IN addition to movie attributes (title, year, plot ..etc) We are also dislaying `search_score`.  This is a meta attribute - not really part of movies collection, but generated as a result of vector search.\n",
    "\n",
    "This is a number between 0 and 1.  Closer to 1 values represent 'better match'.  And the results are sorted from best match down (closer to 1 first)\n",
    "\n",
    "[You can read more about search score here](https://www.mongodb.com/docs/atlas/atlas-vector-search/vector-search-stage/#atlas-vector-search-score)"
   ]
  },
  {
   "cell_type": "code",
   "execution_count": 11,
   "metadata": {},
   "outputs": [],
   "source": [
    "import time\n",
    "\n",
    "# Handy function\n",
    "def do_vector_search (query:str) -> None:\n",
    "    t1a = time.perf_counter()\n",
    "    embedding = openAI_client.get_embedding(query)\n",
    "    t1b = time.perf_counter()\n",
    "    print (f\"Getting embeddings from OpenAI took {(t1b-t1a)*1000:,.0f} ms\")\n",
    "\n",
    "    t2a = time.perf_counter()\n",
    "    movies = atlas_client.vector_search(collection_name=COLLECTION_NAME, index_name=INDEX_NAME, attr_name='plot_embedding', embedding_vector=embedding,limit=10 )\n",
    "    t2b = time.perf_counter()\n",
    "\n",
    "    print (f\"Altas query returned {len (movies)} movies in {(t2b-t2a)*1000:,.0f} ms\")\n",
    "    print()\n",
    "\n",
    "    for idx, movie in enumerate (movies):\n",
    "        print(f'{idx+1}\\nid: {movie[\"_id\"]}\\ntitle: {movie[\"title\"]},\\nyear: {movie[\"year\"]}' +\n",
    "            f'\\nsearch_score(meta):{movie[\"search_score\"]}\\nplot: {movie[\"plot\"]}\\n')"
   ]
  },
  {
   "cell_type": "code",
   "execution_count": 12,
   "metadata": {},
   "outputs": [
    {
     "name": "stdout",
     "output_type": "stream",
     "text": [
      "Getting embeddings from OpenAI took 197 ms\n",
      "Altas query returned 10 movies in 173 ms\n",
      "\n",
      "1\n",
      "id: 573a1398f29313caabce8f83\n",
      "title: V: The Final Battle,\n",
      "year: 1984\n",
      "search_score(meta):0.7994816303253174\n",
      "plot: A small group of human resistance fighters fight a desperate guerilla war against the genocidal extra-terrestrials who dominate Earth.\n",
      "\n",
      "2\n",
      "id: 573a13d7f29313caabda215e\n",
      "title: Pixels,\n",
      "year: 2015\n",
      "search_score(meta):0.7863641381263733\n",
      "plot: When aliens misinterpret video feeds of classic arcade games as a declaration of war, they attack the Earth in the form of the video games.\n",
      "\n",
      "3\n",
      "id: 573a139ff29313caabd000f6\n",
      "title: Battlefield Earth,\n",
      "year: 2000\n",
      "search_score(meta):0.7854798436164856\n",
      "plot: After enslavement & near extermination by an alien race in the year 3000, humanity begins to fight back.\n",
      "\n",
      "4\n",
      "id: 573a13c7f29313caabd75324\n",
      "title: Falling Skies,\n",
      "year: 2011è\n",
      "search_score(meta):0.7843168377876282\n",
      "plot: Survivors of an alien attack on earth gather together to fight for their lives and fight back.\n",
      "\n",
      "5\n",
      "id: 573a13a9f29313caabd1e90b\n",
      "title: Battlestar Galactica,\n",
      "year: 2003\n",
      "search_score(meta):0.7840597033500671\n",
      "plot: A re-imagining of the original series in which a \"rag-tag fugitive fleet\" of the last remnants of mankind flees pursuing robots while simultaneously searching for their true home, Earth.\n",
      "\n",
      "6\n",
      "id: 573a13bef29313caabd5b759\n",
      "title: Futurama: Bender's Game,\n",
      "year: 2008\n",
      "search_score(meta):0.7838740944862366\n",
      "plot: The Planet Express crew get trapped in a fantasy world.\n",
      "\n",
      "7\n",
      "id: 573a139af29313caabcf0cff\n",
      "title: Starship Troopers,\n",
      "year: 1997\n",
      "search_score(meta):0.7824909090995789\n",
      "plot: Humans in a fascistic, militaristic future do battle with giant alien bugs in a fight for survival.\n",
      "\n",
      "8\n",
      "id: 573a1397f29313caabce6b15\n",
      "title: Buck Rogers in the 25th Century,\n",
      "year: 1979\n",
      "search_score(meta):0.7778234481811523\n",
      "plot: A 20th century astronaut emerges out of 500 years of suspended animation into a future time where Earth is threatened by alien invaders.\n",
      "\n",
      "9\n",
      "id: 573a13bff29313caabd5fcd1\n",
      "title: District 9,\n",
      "year: 2009\n",
      "search_score(meta):0.7773821353912354\n",
      "plot: An extraterrestrial race forced to live in slum-like conditions on Earth suddenly finds a kindred spirit in a government agent who is exposed to their biotechnology.\n",
      "\n",
      "10\n",
      "id: 573a1392f29313caabcdacf0\n",
      "title: Flash Gordon,\n",
      "year: 1936\n",
      "search_score(meta):0.7758142352104187\n",
      "plot: Three earthlings visit the planet Mongo to thwart the evil schemes of Emperor Ming the Merciless.\n",
      "\n"
     ]
    }
   ],
   "source": [
    "query=\"imaginary characters from outerspace at war with earthlings\"\n",
    "\n",
    "do_vector_search (query=query)"
   ]
  },
  {
   "cell_type": "code",
   "execution_count": 13,
   "metadata": {},
   "outputs": [
    {
     "name": "stdout",
     "output_type": "stream",
     "text": [
      "Getting embeddings from OpenAI took 127 ms\n",
      "Altas query returned 10 movies in 171 ms\n",
      "\n",
      "1\n",
      "id: 573a139af29313caabcf0cff\n",
      "title: Starship Troopers,\n",
      "year: 1997\n",
      "search_score(meta):0.760166585445404\n",
      "plot: Humans in a fascistic, militaristic future do battle with giant alien bugs in a fight for survival.\n",
      "\n",
      "2\n",
      "id: 573a139ff29313caabcff478\n",
      "title: Terminator 3: Rise of the Machines,\n",
      "year: 2003\n",
      "search_score(meta):0.7481037974357605\n",
      "plot: A cybernetic warrior from a post-apocalyptic future travels back in time to protect a 19-year old drifter and his future wife from a most advanced robotic assassin and to ensure they both survive a nuclear attack.\n",
      "\n",
      "3\n",
      "id: 573a1397f29313caabce61a5\n",
      "title: Logan's Run,\n",
      "year: 1976\n",
      "search_score(meta):0.7468052506446838\n",
      "plot: An idyllic sci-fi future has one major drawback: life must end at 30.\n",
      "\n",
      "4\n",
      "id: 573a13adf29313caabd2ae08\n",
      "title: Starship Troopers 2: Hero of the Federation,\n",
      "year: 2004\n",
      "search_score(meta):0.7457969784736633\n",
      "plot: In the sequel to Paul Verhoeven's loved/reviled sci-fi film, a group of troopers taking refuge in an abandoned outpost after fighting alien bugs, failing to realize that more danger lays in wait.\n",
      "\n",
      "5\n",
      "id: 573a13b5f29313caabd4473e\n",
      "title: Wristcutters: A Love Story,\n",
      "year: 2006\n",
      "search_score(meta):0.7444701790809631\n",
      "plot: A film set in a strange afterlife way station that has been reserved for people who have committed suicide.\n",
      "\n",
      "6\n",
      "id: 573a13d4f29313caabd9887f\n",
      "title: Abiogenesis,\n",
      "year: 2011\n",
      "search_score(meta):0.7444683313369751\n",
      "plot: In this breathtaking science fiction spectacle, a strange mechanical device lands on a desolate world and uses the planet to undergo a startling transformation, that has profound implications for an entire galaxy.\n",
      "\n",
      "7\n",
      "id: 573a1398f29313caabcea9bc\n",
      "title: RoboCop,\n",
      "year: 1987\n",
      "search_score(meta):0.7438862919807434\n",
      "plot: In a dystopic and crime-ridden Detroit, a terminally wounded cop returns to the force as a powerful cyborg haunted by submerged memories.\n",
      "\n",
      "8\n",
      "id: 573a1397f29313caabce6b15\n",
      "title: Buck Rogers in the 25th Century,\n",
      "year: 1979\n",
      "search_score(meta):0.7436520457267761\n",
      "plot: A 20th century astronaut emerges out of 500 years of suspended animation into a future time where Earth is threatened by alien invaders.\n",
      "\n",
      "9\n",
      "id: 573a13c1f29313caabd63327\n",
      "title: 2012,\n",
      "year: 2009\n",
      "search_score(meta):0.7434524893760681\n",
      "plot: A frustrated writer struggles to keep his family alive when a series of global catastrophes threatens to annihilate mankind.\n",
      "\n",
      "10\n",
      "id: 573a13b3f29313caabd3da33\n",
      "title: Knowing,\n",
      "year: 2009\n",
      "search_score(meta):0.7430638074874878\n",
      "plot: M.I.T. professor John Koestler links a mysterious list of numbers from a time capsule to past and future disasters and sets out to prevent the ultimate catastrophe.\n",
      "\n"
     ]
    }
   ],
   "source": [
    "query=\"fatalistic sci-fi movies\"\n",
    "\n",
    "do_vector_search (query=query)"
   ]
  },
  {
   "cell_type": "markdown",
   "metadata": {},
   "source": [
    "### Try your own searches!\n",
    "\n",
    "Update the query string to what ever you like, and run it"
   ]
  },
  {
   "cell_type": "code",
   "execution_count": 14,
   "metadata": {},
   "outputs": [
    {
     "name": "stdout",
     "output_type": "stream",
     "text": [
      "Getting embeddings from OpenAI took 189 ms\n",
      "Altas query returned 10 movies in 174 ms\n",
      "\n",
      "1\n",
      "id: 573a139af29313caabcf15e4\n",
      "title: Small Soldiers,\n",
      "year: 1998\n",
      "search_score(meta):0.7407728433609009\n",
      "plot: When missile technology is used to enhance toy action figures, the toys soon begin to take their battle programming too seriously.\n",
      "\n",
      "2\n",
      "id: 573a1396f29313caabce530a\n",
      "title: Westworld,\n",
      "year: 1973\n",
      "search_score(meta):0.7368378043174744\n",
      "plot: A robot malfunction creates havoc and terror for unsuspecting vacationers at a futuristic, adult-themed amusement park.\n",
      "\n",
      "3\n",
      "id: 573a13abf29313caabd25619\n",
      "title: I, Robot,\n",
      "year: 2004\n",
      "search_score(meta):0.7347720265388489\n",
      "plot: In 2035 a technophobic cop investigates a crime that may have been perpetrated by a robot, which leads to a larger threat to humanity.\n",
      "\n",
      "4\n",
      "id: 573a1399f29313caabcee36f\n",
      "title: A.P.E.X.,\n",
      "year: 1994\n",
      "search_score(meta):0.7347407341003418\n",
      "plot: A time-travel experiment in which a robot probe is sent from the year 2073 to the year 1973 goes terribly wrong thrusting one of the project scientists, a man named Nicholas Sinclair into a...\n",
      "\n",
      "5\n",
      "id: 573a13caf29313caabd7d83b\n",
      "title: Ra.One,\n",
      "year: 2011\n",
      "search_score(meta):0.734555721282959\n",
      "plot: A video game developer's world spirals out of control when his shape-shifting indestructible virtual creation becomes all too real.\n",
      "\n",
      "6\n",
      "id: 573a13caf29313caabd7cef3\n",
      "title: Ra.One,\n",
      "year: 2011\n",
      "search_score(meta):0.7343879342079163\n",
      "plot: A video game developer's world spirals out of control when his shape-shifting indestructible virtual creation becomes all too real.\n",
      "\n",
      "7\n",
      "id: 573a13abf29313caabd24011\n",
      "title: Nicotina,\n",
      "year: 2003\n",
      "search_score(meta):0.7343654632568359\n",
      "plot: A real-time dark comedy about a science geek who tangles with a clutch of Russian gangsters after he delivers them the wrong computer disk.\n",
      "\n",
      "8\n",
      "id: 573a13aef29313caabd2d8cc\n",
      "title: Naechureol siti,\n",
      "year: 2003\n",
      "search_score(meta):0.7335246801376343\n",
      "plot: In the year 2080, the world is connected by a massive computer network. Combiners have developed a process that allows them to merge the souls of human and machine/cyborg, wreaking havoc in...\n",
      "\n",
      "9\n",
      "id: 573a13b5f29313caabd45108\n",
      "title: Sivaji,\n",
      "year: 2007\n",
      "search_score(meta):0.7318858504295349\n",
      "plot: Corrupt police and politicians target a computer engineer for trying to better the lives of less privileged citizens.\n",
      "\n",
      "10\n",
      "id: 573a1397f29313caabce87a9\n",
      "title: TRON,\n",
      "year: 1982\n",
      "search_score(meta):0.72603839635849\n",
      "plot: A computer hacker is abducted into the digital world and forced to participate in gladiatorial games where his only chance of escape is with the help of a heroic security program.\n",
      "\n"
     ]
    }
   ],
   "source": [
    "## TODO: enter your query here\n",
    "query=\"technology gone wrong\"\n",
    "\n",
    "do_vector_search (query=query)\n"
   ]
  },
  {
   "cell_type": "code",
   "execution_count": 9,
   "metadata": {},
   "outputs": [],
   "source": [
    "## Close connection\n",
    "\n",
    "# atlas_client.close_connection()"
   ]
  }
 ],
 "metadata": {
  "kernelspec": {
   "display_name": "atlas-1",
   "language": "python",
   "name": "python3"
  },
  "language_info": {
   "codemirror_mode": {
    "name": "ipython",
    "version": 3
   },
   "file_extension": ".py",
   "mimetype": "text/x-python",
   "name": "python",
   "nbconvert_exporter": "python",
   "pygments_lexer": "ipython3",
   "version": "3.11.7"
  }
 },
 "nbformat": 4,
 "nbformat_minor": 2
}

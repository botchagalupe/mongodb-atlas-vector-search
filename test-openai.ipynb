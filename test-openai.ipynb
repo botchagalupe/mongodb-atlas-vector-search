{
 "cells": [
  {
   "cell_type": "markdown",
   "metadata": {
    "id": "fBO7SUBEkka-"
   },
   "source": [
    "# Test Open AI Access\n",
    "\n",
    "Check that your API key is working\n",
    "\n",
    "Run this on Colab : \n",
    "[![Open In Colab](https://colab.research.google.com/assets/colab-badge.svg)](https://colab.research.google.com/github/sujee/mongodb-atlas-vector-search/blob/main/test-openai.ipynb)\n",
    "\n"
   ]
  },
  {
   "cell_type": "code",
   "execution_count": 1,
   "metadata": {
    "id": "-3fLiiZElJpp"
   },
   "outputs": [],
   "source": [
    "import os, sys\n",
    "import pprint\n",
    "import json\n",
    "import time"
   ]
  },
  {
   "cell_type": "markdown",
   "metadata": {
    "id": "i6GJzby9kpHR"
   },
   "source": [
    "## Runing on Colab?\n",
    "\n",
    "The next will tell you."
   ]
  },
  {
   "cell_type": "code",
   "execution_count": 2,
   "metadata": {
    "colab": {
     "base_uri": "https://localhost:8080/"
    },
    "id": "2HBhxgjDlIEx",
    "outputId": "018c3cdb-468c-499b-8cf2-f6108bb93357"
   },
   "outputs": [
    {
     "name": "stdout",
     "output_type": "stream",
     "text": [
      "NOT in Colab\n"
     ]
    }
   ],
   "source": [
    "import os\n",
    "\n",
    "if os.getenv(\"COLAB_RELEASE_TAG\"):\n",
    "   print(\"Running in Colab\")\n",
    "   RUNNING_IN_COLAB = True\n",
    "else:\n",
    "   print(\"NOT in Colab\")\n",
    "   RUNNING_IN_COLAB = False"
   ]
  },
  {
   "cell_type": "markdown",
   "metadata": {},
   "source": [
    "if you are running on COLAB, uncomment the following cell and execute.\n",
    "\n",
    "We only have to do it once"
   ]
  },
  {
   "cell_type": "code",
   "execution_count": 3,
   "metadata": {
    "colab": {
     "base_uri": "https://localhost:8080/"
    },
    "id": "N19Zmpu5kvNA",
    "outputId": "310a0f0f-e6f8-495e-e304-766fd73332d7"
   },
   "outputs": [],
   "source": [
    "if RUNNING_IN_COLAB:\n",
    "    !pip install --upgrade openai  python-dotenv\n",
    "    !pip show openai | grep Version"
   ]
  },
  {
   "cell_type": "markdown",
   "metadata": {
    "id": "DO89XuWOkkbC"
   },
   "source": [
    "## Load Settings"
   ]
  },
  {
   "cell_type": "code",
   "execution_count": 4,
   "metadata": {},
   "outputs": [],
   "source": [
    "## Load Settings from .env file\n",
    "from dotenv import find_dotenv, dotenv_values\n",
    "\n",
    "# _ = load_dotenv(find_dotenv()) # read local .env file\n",
    "config = dotenv_values(find_dotenv())\n",
    "\n",
    "# debug\n",
    "# print (config)\n",
    "\n",
    "OPENAI_API_KEY = config.get(\"OPENAI_API_KEY\")\n",
    "\n",
    "if not OPENAI_API_KEY:\n",
    "    raise Exception (\"'OPENAI_API_KEY' is not set.  Please set it above to continue...\")"
   ]
  },
  {
   "cell_type": "markdown",
   "metadata": {},
   "source": [
    "## Let's Try Chat Completion"
   ]
  },
  {
   "cell_type": "code",
   "execution_count": 5,
   "metadata": {},
   "outputs": [
    {
     "name": "stdout",
     "output_type": "stream",
     "text": [
      "OpenAI client initialized\n"
     ]
    }
   ],
   "source": [
    "from OpenAIClient import OpenAIClient\n",
    "\n",
    "openAI_client = OpenAIClient (api_key=OPENAI_API_KEY)\n",
    "print (\"OpenAI client initialized\")"
   ]
  },
  {
   "cell_type": "code",
   "execution_count": 6,
   "metadata": {
    "id": "MEzscp9okkbF"
   },
   "outputs": [
    {
     "name": "stdout",
     "output_type": "stream",
     "text": [
      "('{\\n'\n",
      " '    \"id\": \"chatcmpl-8fEVK7gZF29KzSN8knvg9A0fE0QO2\",\\n'\n",
      " '    \"choices\": [\\n'\n",
      " '        {\\n'\n",
      " '            \"finish_reason\": \"stop\",\\n'\n",
      " '            \"index\": 0,\\n'\n",
      " '            \"message\": {\\n'\n",
      " '                \"content\": \"This is a test.\",\\n'\n",
      " '                \"role\": \"assistant\",\\n'\n",
      " '                \"function_call\": null,\\n'\n",
      " '                \"tool_calls\": null\\n'\n",
      " '            },\\n'\n",
      " '            \"logprobs\": null\\n'\n",
      " '        }\\n'\n",
      " '    ],\\n'\n",
      " '    \"created\": 1704837894,\\n'\n",
      " '    \"model\": \"gpt-3.5-turbo-0613\",\\n'\n",
      " '    \"object\": \"chat.completion\",\\n'\n",
      " '    \"system_fingerprint\": null,\\n'\n",
      " '    \"usage\": {\\n'\n",
      " '        \"completion_tokens\": 5,\\n'\n",
      " '        \"prompt_tokens\": 12,\\n'\n",
      " '        \"total_tokens\": 17\\n'\n",
      " '    }\\n'\n",
      " '}')\n"
     ]
    }
   ],
   "source": [
    "messages=[\n",
    "    {\n",
    "    \"role\": \"user\",\n",
    "    \"content\": \"Say this is a test\",\n",
    "    }\n",
    "]\n",
    "chat_completion = openAI_client.chat(messages=messages)\n",
    "pprint.pprint (chat_completion.model_dump_json(indent=4))"
   ]
  },
  {
   "cell_type": "markdown",
   "metadata": {},
   "source": [
    "## Check Embeddings\n",
    "\n"
   ]
  },
  {
   "cell_type": "code",
   "execution_count": 7,
   "metadata": {},
   "outputs": [
    {
     "name": "stdout",
     "output_type": "stream",
     "text": [
      "Embedding for word='apple' using model='text-embedding-ada-002', embeddding_length=1536, printing first few numbers... :\n",
      " [0.007821466773748398, -0.02299141138792038, -0.007300492841750383, -0.027748728170990944, -0.004575660917907953, 0.012873545289039612, -0.02186720445752144, -0.00860292837023735, 0.0189058780670166, -0.029750365763902664]\n"
     ]
    }
   ],
   "source": [
    "word = 'apple'\n",
    "model = 'text-embedding-ada-002'\n",
    "embedding = openAI_client.get_embedding(word, model)\n",
    "print (f\"Embedding for word='{word}' using model='{model}', embeddding_length={len(embedding)}, printing first few numbers... :\\n\", embedding [:10] )"
   ]
  },
  {
   "cell_type": "markdown",
   "metadata": {},
   "source": [
    "# Visualizing Word Embeddings\n",
    "\n",
    "Here is a nice demo, where you can see how the words are mapped to embeddings\n",
    "\n",
    "https://projector.tensorflow.org/"
   ]
  },
  {
   "cell_type": "markdown",
   "metadata": {},
   "source": []
  }
 ],
 "metadata": {
  "colab": {
   "provenance": []
  },
  "kernelspec": {
   "display_name": "atlas-1",
   "language": "python",
   "name": "python3"
  },
  "language_info": {
   "codemirror_mode": {
    "name": "ipython",
    "version": 3
   },
   "file_extension": ".py",
   "mimetype": "text/x-python",
   "name": "python",
   "nbconvert_exporter": "python",
   "pygments_lexer": "ipython3",
   "version": "3.10.13"
  }
 },
 "nbformat": 4,
 "nbformat_minor": 4
}

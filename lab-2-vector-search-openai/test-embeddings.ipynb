{
 "cells": [
  {
   "cell_type": "markdown",
   "metadata": {},
   "source": [
    "# Quick Test of Loading Embeddings"
   ]
  },
  {
   "cell_type": "code",
   "execution_count": 3,
   "metadata": {},
   "outputs": [
    {
     "name": "stdout",
     "output_type": "stream",
     "text": [
      "'fatalistic sci-fi movies'  = [0.007082960568368435, -0.03959798067808151, -0.010357355698943138] ...\n",
      "'humans fighting aliens'  = [-0.002731167944148183, -0.03332286328077316, -0.004684802144765854] ...\n",
      "'futuristic christmas movies'  = [-0.009609229862689972, -0.03985653817653656, -0.0237987469881773] ...\n",
      "'sci-fi story with a friendly alien'  = [0.023703496903181076, -0.027314944192767143, -0.007155518513172865] ...\n",
      "'relationship drama between two good friends'  = [0.0009968755766749382, -0.02657897025346756, 0.020417064428329468] ...\n",
      "'college graduates working in a big city discover new relationships'  = [-0.006996692158281803, -0.013768537901341915, 0.018728386610746384] ...\n",
      "'household pets get lost but go on a long journey to find home'  = [0.013809062540531158, -0.003805076004937291, -0.02401748113334179] ...\n"
     ]
    }
   ],
   "source": [
    "import json\n",
    "import pprint\n",
    "\n",
    "str = ''\n",
    "with open(\"embeddings_openai.json\", \"r\") as f:\n",
    "    str = f.read()\n",
    "\n",
    "embeddings = json.loads(str)\n",
    "\n",
    "for query, embedding in embeddings.items():\n",
    "    print (f\"'{query}'  = {embedding[:3]} ...\")\n"
   ]
  }
 ],
 "metadata": {
  "kernelspec": {
   "display_name": "atlas-2",
   "language": "python",
   "name": "python3"
  },
  "language_info": {
   "codemirror_mode": {
    "name": "ipython",
    "version": 3
   },
   "file_extension": ".py",
   "mimetype": "text/x-python",
   "name": "python",
   "nbconvert_exporter": "python",
   "pygments_lexer": "ipython3",
   "version": "3.11.7"
  }
 },
 "nbformat": 4,
 "nbformat_minor": 2
}

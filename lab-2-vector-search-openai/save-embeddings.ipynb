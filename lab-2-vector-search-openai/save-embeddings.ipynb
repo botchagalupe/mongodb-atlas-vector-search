{
 "cells": [
  {
   "cell_type": "markdown",
   "metadata": {
    "id": "fBO7SUBEkka-"
   },
   "source": [
    "# Test Open AI Access\n",
    "\n",
    "Check that your API key is working\n",
    "\n",
    "Run this on Colab : \n",
    "[![Open In Colab](https://colab.research.google.com/assets/colab-badge.svg)](https://colab.research.google.com/github/sujee/mongodb-atlas-vector-search/blob/main/test-openai.ipynb)\n",
    "\n"
   ]
  },
  {
   "cell_type": "code",
   "execution_count": 13,
   "metadata": {},
   "outputs": [],
   "source": [
    "import os, sys\n",
    "\n",
    "this_dir = os.path.abspath('')\n",
    "parent_dir = os.path.dirname(this_dir)\n",
    "sys.path.append (os.path.abspath (parent_dir))"
   ]
  },
  {
   "cell_type": "markdown",
   "metadata": {
    "id": "DO89XuWOkkbC"
   },
   "source": [
    "## Load Settings"
   ]
  },
  {
   "cell_type": "code",
   "execution_count": 14,
   "metadata": {},
   "outputs": [],
   "source": [
    "## Load Settings from .env file\n",
    "from dotenv import find_dotenv, dotenv_values\n",
    "\n",
    "# _ = load_dotenv(find_dotenv()) # read local .env file\n",
    "config = dotenv_values(find_dotenv())\n",
    "\n",
    "# debug\n",
    "# print (config)\n",
    "\n",
    "OPENAI_API_KEY = config.get(\"OPENAI_API_KEY\")\n",
    "\n",
    "if not OPENAI_API_KEY:\n",
    "    raise Exception (\"'OPENAI_API_KEY' is not set.  Please set it above to continue...\")"
   ]
  },
  {
   "cell_type": "markdown",
   "metadata": {},
   "source": [
    "## Initialize OpenAI Client"
   ]
  },
  {
   "cell_type": "code",
   "execution_count": 15,
   "metadata": {},
   "outputs": [
    {
     "name": "stdout",
     "output_type": "stream",
     "text": [
      "OpenAI client initialized\n"
     ]
    }
   ],
   "source": [
    "from OpenAIClient import OpenAIClient\n",
    "\n",
    "openAI_client = OpenAIClient (api_key=OPENAI_API_KEY)\n",
    "print (\"OpenAI client initialized\")"
   ]
  },
  {
   "cell_type": "markdown",
   "metadata": {},
   "source": [
    "## Get Embeddings\n",
    "\n",
    "We are going to get embeddings for a few phrases and save them locally. So they can be used later.\n"
   ]
  },
  {
   "cell_type": "code",
   "execution_count": 16,
   "metadata": {},
   "outputs": [],
   "source": [
    "queries = [\n",
    "    'fatalistic sci-fi movies',\n",
    "    'humans fighting aliens',\n",
    "    'futuristic christmas movies',\n",
    "    'imaginary characters from outerspace at war with earthlings'\n",
    "]"
   ]
  },
  {
   "cell_type": "code",
   "execution_count": 17,
   "metadata": {},
   "outputs": [
    {
     "name": "stdout",
     "output_type": "stream",
     "text": [
      "Embedding for query='fatalistic sci-fi movies', embeddding_length=1536, printing first few numbers... :\n",
      " [0.007082960568368435, -0.03959798067808151, -0.010357355698943138, -0.022809768095612526, -0.00922657921910286, 0.001149853807874024, -0.03088475950062275, -0.02258777618408203, -0.015275885351002216, 0.002518231747671962]\n",
      "Embedding for query='humans fighting aliens', embeddding_length=1536, printing first few numbers... :\n",
      " [-0.002731167944148183, -0.03332286328077316, -0.004684802144765854, -0.025364577770233154, -0.0009024941828101873, 0.01671370305120945, -0.005449268035590649, -0.00995765533298254, -0.002678896766155958, -0.009833510965108871]\n",
      "Embedding for query='futuristic christmas movies', embeddding_length=1536, printing first few numbers... :\n",
      " [-0.009540981613099575, -0.039750728756189346, -0.02370789460837841, -0.027432844042778015, 4.470234125619754e-05, -0.0006072374526411295, -0.021677326411008835, -0.01863819733262062, -0.021166322752833366, -0.011726196855306625]\n",
      "Embedding for query='imaginary characters from outerspace at war with earthlings', embeddding_length=1536, printing first few numbers... :\n",
      " [-0.0008003537659533322, -0.02939312905073166, -0.016580739989876747, -0.013498768210411072, -0.020026087760925293, 0.016526905819773674, -0.014454313553869724, -0.017832370474934578, -0.008821976371109486, 0.0026883138343691826]\n"
     ]
    }
   ],
   "source": [
    "embeddings = {}\n",
    "\n",
    "for query in queries:\n",
    "    embedding  = openAI_client.get_embedding(query, model='text-embedding-ada-002')\n",
    "    print (f\"Embedding for query='{query}', embeddding_length={len(embedding)}, printing first few numbers... :\\n\", embedding [:10] )\n",
    "\n",
    "    embeddings[query] = embedding"
   ]
  },
  {
   "cell_type": "markdown",
   "metadata": {},
   "source": [
    "## Save the embeddings for future uses"
   ]
  },
  {
   "cell_type": "code",
   "execution_count": 18,
   "metadata": {},
   "outputs": [
    {
     "name": "stdout",
     "output_type": "stream",
     "text": [
      "saved to : 'embeddings_openai.json'\n"
     ]
    }
   ],
   "source": [
    "import json\n",
    "\n",
    "str = json.dumps(embeddings)\n",
    "\n",
    "with open(\"../embeddings_openai.json\", \"w\") as f:\n",
    "    f.write(str)\n",
    "\n",
    "print (\"saved to : 'embeddings_openai.json'\")"
   ]
  }
 ],
 "metadata": {
  "colab": {
   "provenance": []
  },
  "kernelspec": {
   "display_name": "atlas-1",
   "language": "python",
   "name": "python3"
  },
  "language_info": {
   "codemirror_mode": {
    "name": "ipython",
    "version": 3
   },
   "file_extension": ".py",
   "mimetype": "text/x-python",
   "name": "python",
   "nbconvert_exporter": "python",
   "pygments_lexer": "ipython3",
   "version": "3.11.7"
  }
 },
 "nbformat": 4,
 "nbformat_minor": 4
}

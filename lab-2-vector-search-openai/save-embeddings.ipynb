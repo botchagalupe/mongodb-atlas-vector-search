{
 "cells": [
  {
   "cell_type": "markdown",
   "metadata": {
    "id": "fBO7SUBEkka-"
   },
   "source": [
    "# Test Open AI Access\n",
    "\n",
    "Check that your API key is working\n",
    "\n",
    "Run this on Colab : \n",
    "[![Open In Colab](https://colab.research.google.com/assets/colab-badge.svg)](https://colab.research.google.com/github/sujee/mongodb-atlas-vector-search/blob/main/test-openai.ipynb)\n",
    "\n"
   ]
  },
  {
   "cell_type": "code",
   "execution_count": 1,
   "metadata": {},
   "outputs": [],
   "source": [
    "import os, sys\n",
    "\n",
    "this_dir = os.path.abspath('')\n",
    "parent_dir = os.path.dirname(this_dir)\n",
    "sys.path.append (os.path.abspath (parent_dir))"
   ]
  },
  {
   "cell_type": "markdown",
   "metadata": {
    "id": "DO89XuWOkkbC"
   },
   "source": [
    "## Load Settings"
   ]
  },
  {
   "cell_type": "code",
   "execution_count": 2,
   "metadata": {},
   "outputs": [],
   "source": [
    "## Load Settings from .env file\n",
    "from dotenv import find_dotenv, dotenv_values\n",
    "\n",
    "# _ = load_dotenv(find_dotenv()) # read local .env file\n",
    "config = dotenv_values(find_dotenv())\n",
    "\n",
    "# debug\n",
    "# print (config)\n",
    "\n",
    "OPENAI_API_KEY = config.get(\"OPENAI_API_KEY\")\n",
    "\n",
    "if not OPENAI_API_KEY:\n",
    "    raise Exception (\"'OPENAI_API_KEY' is not set.  Please set it above to continue...\")"
   ]
  },
  {
   "cell_type": "markdown",
   "metadata": {},
   "source": [
    "## Initialize OpenAI Client"
   ]
  },
  {
   "cell_type": "code",
   "execution_count": 3,
   "metadata": {},
   "outputs": [
    {
     "name": "stdout",
     "output_type": "stream",
     "text": [
      "OpenAI client initialized\n"
     ]
    }
   ],
   "source": [
    "from OpenAIClient import OpenAIClient\n",
    "\n",
    "openAI_client = OpenAIClient (api_key=OPENAI_API_KEY)\n",
    "print (\"OpenAI client initialized\")"
   ]
  },
  {
   "cell_type": "markdown",
   "metadata": {},
   "source": [
    "## Get Embeddings\n",
    "\n",
    "We are going to get embeddings for a few phrases and save them locally. So they can be used later.\n"
   ]
  },
  {
   "cell_type": "code",
   "execution_count": 4,
   "metadata": {},
   "outputs": [],
   "source": [
    "queries = [\n",
    "    'fatalistic sci-fi movies',\n",
    "    'humans fighting aliens',\n",
    "    'futuristic christmas movies',\n",
    "    'sci-fi story with a friendly alien',\n",
    "    'relationship drama between two good friends',\n",
    "    'college graduates working in a big city discover new relationships',\n",
    "    'household pets get lost but go on a long journey to find home'\n",
    "]"
   ]
  },
  {
   "cell_type": "code",
   "execution_count": 5,
   "metadata": {},
   "outputs": [
    {
     "name": "stdout",
     "output_type": "stream",
     "text": [
      "Embedding for query='fatalistic sci-fi movies', embeddding_length=1536, printing first few numbers... :\n",
      " [0.007082960568368435, -0.03959798067808151, -0.010357355698943138, -0.022809768095612526, -0.00922657921910286, 0.001149853807874024, -0.03088475950062275, -0.02258777618408203, -0.015275885351002216, 0.002518231747671962]\n",
      "Embedding for query='humans fighting aliens', embeddding_length=1536, printing first few numbers... :\n",
      " [-0.002731167944148183, -0.03332286328077316, -0.004684802144765854, -0.025364577770233154, -0.0009024941828101873, 0.01671370305120945, -0.005449268035590649, -0.00995765533298254, -0.002678896766155958, -0.009833510965108871]\n",
      "Embedding for query='futuristic christmas movies', embeddding_length=1536, printing first few numbers... :\n",
      " [-0.009609229862689972, -0.03985653817653656, -0.0237987469881773, -0.0274281557649374, 0.00015160902694333345, -0.0005758841289207339, -0.021763063967227936, -0.018481863662600517, -0.021240750327706337, -0.011517683044075966]\n",
      "Embedding for query='sci-fi story with a friendly alien', embeddding_length=1536, printing first few numbers... :\n",
      " [0.023703496903181076, -0.027314944192767143, -0.007155518513172865, -0.020604118704795837, -0.006016834173351526, 0.016467124223709106, -0.015496885403990746, -0.025724830105900764, -0.020186377689242363, -0.006939909420907497]\n",
      "Embedding for query='relationship drama between two good friends', embeddding_length=1536, printing first few numbers... :\n",
      " [0.0009968755766749382, -0.02657897025346756, 0.020417064428329468, -0.02431916631758213, -0.00768596027046442, 0.029771599918603897, -0.001167674781754613, -0.016580652445554733, -0.020811215043067932, -0.02727530524134636]\n",
      "Embedding for query='college graduates working in a big city discover new relationships', embeddding_length=1536, printing first few numbers... :\n",
      " [-0.006996692158281803, -0.013768537901341915, 0.018728386610746384, -0.041054315865039825, -0.02444213069975376, 0.022312702611088753, -0.010329710319638252, 0.021148791536688805, -0.014562113210558891, -0.04600093513727188]\n",
      "Embedding for query='household pets get lost but go on a long journey to find home', embeddding_length=1536, printing first few numbers... :\n",
      " [0.013809062540531158, -0.003805076004937291, -0.02401748113334179, -0.002796104410663247, -0.016526032239198685, 0.02461099438369274, 0.02358223870396614, -0.01064366102218628, -0.018280191347002983, -0.006696801632642746]\n"
     ]
    }
   ],
   "source": [
    "embeddings = {}\n",
    "\n",
    "for query in queries:\n",
    "    embedding  = openAI_client.get_embedding(query, model='text-embedding-ada-002')\n",
    "    print (f\"Embedding for query='{query}', embeddding_length={len(embedding)}, printing first few numbers... :\\n\", embedding [:10] )\n",
    "\n",
    "    embeddings[query] = embedding"
   ]
  },
  {
   "cell_type": "markdown",
   "metadata": {},
   "source": [
    "## Save the embeddings for future uses"
   ]
  },
  {
   "cell_type": "code",
   "execution_count": 6,
   "metadata": {},
   "outputs": [
    {
     "name": "stdout",
     "output_type": "stream",
     "text": [
      "saved to : 'embeddings_openai.json'\n"
     ]
    }
   ],
   "source": [
    "import json\n",
    "\n",
    "str = json.dumps(embeddings)\n",
    "\n",
    "with open(\"embeddings_openai.json\", \"w\") as f:\n",
    "    f.write(str)\n",
    "\n",
    "print (\"saved to : 'embeddings_openai.json'\")"
   ]
  }
 ],
 "metadata": {
  "colab": {
   "provenance": []
  },
  "kernelspec": {
   "display_name": "atlas-1",
   "language": "python",
   "name": "python3"
  },
  "language_info": {
   "codemirror_mode": {
    "name": "ipython",
    "version": 3
   },
   "file_extension": ".py",
   "mimetype": "text/x-python",
   "name": "python",
   "nbconvert_exporter": "python",
   "pygments_lexer": "ipython3",
   "version": "3.11.7"
  }
 },
 "nbformat": 4,
 "nbformat_minor": 4
}
